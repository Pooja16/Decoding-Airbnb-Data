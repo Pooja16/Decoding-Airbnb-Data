{
 "cells": [
  {
   "cell_type": "code",
   "execution_count": 4,
   "metadata": {},
   "outputs": [
    {
     "name": "stdout",
     "output_type": "stream",
     "text": [
      "[nltk_data] Downloading package vader_lexicon to\n",
      "[nltk_data]     C:\\Users\\Pooja\\AppData\\Roaming\\nltk_data...\n",
      "[nltk_data]   Package vader_lexicon is already up-to-date!\n"
     ]
    }
   ],
   "source": [
    "'''\n",
    "Business and Data Understanding\n",
    "\n",
    "Being an Airbnb user, I tried to analyze what was important for me while renting an Airbnb listing. \n",
    "\n",
    "It was both time and price of the listing.\n",
    "So I tried to figure out various filters that might help save time while picking out the rentals with least listing price. \n",
    "\n",
    "I tried looking at the data to connect the dots and thought correlating price to various features on the listing such as number of \n",
    "rooms, bathrooms, accomodation capacity etc.\n",
    "Using a machine learning model would help us decipher what the most important features are when it comes to the listing  price.\n",
    "'''"
   ]
  },
  {
   "cell_type": "code",
   "execution_count": null,
   "metadata": {},
   "outputs": [],
   "source": [
    "'''\n",
    "Data Understanding \n",
    "\n",
    "The steps below were performed to understand the data and to clean it for using the model\n",
    "\n",
    "I have first imported the dataset.\n",
    "\n",
    "Then I have checked the mean price distribution and volume distribution\n",
    "based on the property type, apartment type, room type, accommodation capacity,\n",
    "review score rating and the number of reviews.\n",
    "\n",
    "I also tried plotting distribution of these features and to see if price follows a trend based on cities.\n",
    "So I plotted correlation graph of the features and price based on the cities. \n",
    "The features include  accommodation capacity, bedrooms, beds and bathrooms\n",
    "cleaning fee reviews score rating and number of reviews.\n",
    "Based on the graph the cities did not follow a similar trend and the trends were quite different.\n",
    "\n",
    "'''"
   ]
  },
  {
   "cell_type": "code",
   "execution_count": 74,
   "metadata": {},
   "outputs": [],
   "source": [
    "'''\n",
    "Data Preparation\n",
    "\n",
    "Looked at features in the dataset.\n",
    "I added the following information using the features in the dataset.\n",
    "As longitude and latitude was given, it would be useful to calculate the distance to the city center based on the city.\n",
    "I used the haversine formula to calculate the circular distance between the city center and the coordinates of the listing.\n",
    "\n",
    "I added sentiment information from the name and the description mentioned on the listing. The sentiment scores would be for \n",
    "negative, positive, neutral and compount sentiment. This might definitely impact the price and popularity of the listing.\n",
    "\n",
    "Then I converted the first review, host since and last review dates into a useful number. Based on each city I found the maximum date \n",
    "based on each metric and then I subtracted it.\n",
    "This gave the recency number of the dates.\n",
    "\n",
    "I seperated all the amenities that was a long list provided in a column. Then I converted these categorical variable to multiple\n",
    "numerical columns. As there were a lot of amenities, I also dropped amentities having very few entries.\n",
    "\n",
    "I also converted the host response rate by stripping the % off and converting it to an integer.\n",
    "\n",
    "I converted all the categorical columns to numerical columns so that I can provide these features as an input to \n",
    "machine learning models.\n",
    "\n",
    "'''\n",
    "\n"
   ]
  },
  {
   "cell_type": "code",
   "execution_count": null,
   "metadata": {},
   "outputs": [],
   "source": [
    "'''\n",
    "Data Modeling\n",
    "\n",
    "I used gradient boosting regressor and random forest regressor\n",
    "Then I used rscore on the training and test dataset to compare performance of both the classifiers.\n",
    "Gradient boosting regressor performed better. \n",
    "'''"
   ]
  },
  {
   "cell_type": "code",
   "execution_count": null,
   "metadata": {},
   "outputs": [],
   "source": [
    "'''\n",
    "Evaluating the results\n",
    "\n",
    "As the machine learning model, gradient boosting regressor performed better than the random forest regressor.\n",
    "I went ahead and got the most important features in regard to the listing price. \n",
    "And the  graphs were evaluated to see the variation of price along with the feature choice.\n",
    "So the graphs and the most important features will help to decide how to proceed based on our choices of preference and \n",
    "price.\n",
    "\n",
    "'''"
   ]
  },
  {
   "cell_type": "code",
   "execution_count": null,
   "metadata": {},
   "outputs": [],
   "source": [
    "'''\n",
    "Handling missing values\n",
    "\n",
    "The missing value distribution is as below:-\n",
    "\n",
    "cancellation_policy                0.000000\n",
    "cleaning_fee                       0.000000\n",
    "city                               0.000000\n",
    "description                        0.000000\n",
    "first_review                      21.405729\n",
    "host_has_profile_pic               0.253674\n",
    "host_identity_verified             0.253674\n",
    "host_response_rate                24.691341\n",
    "host_since                         0.253674\n",
    "instant_bookable                   0.000000\n",
    "last_review                       21.355804\n",
    "latitude                           0.000000\n",
    "longitude                          0.000000\n",
    "name                               0.000000\n",
    "neighbourhood                      9.272578\n",
    "number_of_reviews                  0.000000\n",
    "review_scores_rating              22.563452\n",
    "thumbnail_url                     11.086074\n",
    "zipcode                            1.303450\n",
    "bedrooms                           0.122789\n",
    "beds                               0.176762\n",
    "r_band                             0.000000\n",
    "n_band                             0.000000\n",
    "distance_to_citycenter             0.000000\n",
    "description_neg_sentiment          0.000000\n",
    "description_neu_sentiment          0.000000\n",
    "description_pos_sentiment          0.000000\n",
    "description_compound_sentiment     0.000000\n",
    "name_neg_sentiment                 0.000000\n",
    "name_neu_sentiment                 0.000000\n",
    "name_pos_sentiment                 0.000000\n",
    "name_compound_sentiment            0.000000\n",
    "data_max_date                      0.000000\n",
    "dtype: float64\n",
    "\n",
    "\n",
    "For the dates first review, host since and last review I have replaced the data with 0. \n",
    "About 21% of first review and last review dates are missing and about less than 1% of \n",
    "Because the data here is very unevenly distributed.\n",
    "\n",
    "For the listing image url I have replaced nulls with 0 ie missing image. Rest of the urls have been replaced with 1.\n",
    "\n",
    "For amentities I have dropped the ones that are outliers.\n",
    "\n",
    "I dropped neighbourhood data as most of the data was spread out with lots of missing values.\n",
    "\n",
    "For all other numerical columns left I replaced the null values with median value.  \n",
    "\n",
    "'''"
   ]
  },
  {
   "cell_type": "code",
   "execution_count": 186,
   "metadata": {},
   "outputs": [
    {
     "name": "stdout",
     "output_type": "stream",
     "text": [
      "[nltk_data] Downloading package vader_lexicon to\n",
      "[nltk_data]     C:\\Users\\Pooja\\AppData\\Roaming\\nltk_data...\n",
      "[nltk_data]   Package vader_lexicon is already up-to-date!\n"
     ]
    }
   ],
   "source": [
    "#importing the train and test set\n",
    "import numpy as np\n",
    "import pandas as pd\n",
    "import matplotlib.pyplot as plt\n",
    "import seaborn as sns\n",
    "from math import radians, cos, sin, asin, sqrt\n",
    "from sklearn.metrics import r2_score\n",
    "%matplotlib inline\n",
    "import nltk\n",
    "nltk.download('vader_lexicon')\n",
    "train = pd.read_csv('./airbnb-listings-in-major-us-cities-deloitte-ml/train.csv')                                                                                                                                                     \n",
    "test = pd.read_csv('./airbnb-listings-in-major-us-cities-deloitte-ml/test.csv')     "
   ]
  },
  {
   "cell_type": "code",
   "execution_count": 187,
   "metadata": {},
   "outputs": [
    {
     "name": "stdout",
     "output_type": "stream",
     "text": [
      "property_type\n",
      "Apartment             4.758850\n",
      "Bed & Breakfast       4.556068\n",
      "Boat                  5.200865\n",
      "Boutique hotel        5.083352\n",
      "Bungalow              4.783268\n",
      "Cabin                 4.646499\n",
      "Camper/RV             4.602238\n",
      "Casa particular       4.382027\n",
      "Castle                5.368424\n",
      "Cave                  4.909373\n",
      "Chalet                4.764325\n",
      "Condominium           5.026539\n",
      "Dorm                  3.746140\n",
      "Earth House           5.285391\n",
      "Guest suite           4.717513\n",
      "Guesthouse            4.685184\n",
      "Hostel                3.647333\n",
      "House                 4.797114\n",
      "Hut                   4.022837\n",
      "In-law                4.816649\n",
      "Island                5.010635\n",
      "Lighthouse            5.521461\n",
      "Loft                  5.007919\n",
      "Other                 4.946367\n",
      "Parking Space         4.605170\n",
      "Serviced apartment    5.147467\n",
      "Tent                  4.197131\n",
      "Timeshare             5.602600\n",
      "Tipi                  5.246118\n",
      "Townhouse             4.833539\n",
      "Train                 5.204399\n",
      "Treehouse             4.845520\n",
      "Vacation home         5.420951\n",
      "Villa                 5.112427\n",
      "Yurt                  4.944360\n",
      "Name: log_price, dtype: float64\n"
     ]
    }
   ],
   "source": [
    "dataset=train.groupby('property_type').log_price.mean()\n",
    "print(dataset)"
   ]
  },
  {
   "cell_type": "code",
   "execution_count": 188,
   "metadata": {},
   "outputs": [
    {
     "name": "stdout",
     "output_type": "stream",
     "text": [
      "['Apartment' 'House' 'Condominium' 'Loft' 'Townhouse' 'Hostel'\n",
      " 'Guest suite' 'Bed & Breakfast' 'Bungalow' 'Guesthouse' 'Dorm' 'Other'\n",
      " 'Camper/RV' 'Villa' 'Boutique hotel' 'Timeshare' 'In-law' 'Boat'\n",
      " 'Serviced apartment' 'Castle' 'Cabin' 'Treehouse' 'Tipi' 'Vacation home'\n",
      " 'Tent' 'Hut' 'Casa particular' 'Chalet' 'Yurt' 'Earth House'\n",
      " 'Parking Space' 'Train' 'Cave' 'Lighthouse' 'Island']\n",
      "[4.758850025405184, 4.797113575777436, 5.026538584026184, 5.0079187888927565, 4.833538580315444, 3.6473330657197867, 4.717513044476204, 4.556067512313946, 4.783267621119243, 4.685184390801043, 3.7461402760246605, 4.946366802624568, 4.602237913420423, 5.112426896999262, 5.083351792436799, 5.602600194590793, 4.816649318167724, 5.200864630766853, 5.147466758209801, 5.368423806591423, 4.646498617159732, 4.84552011428258, 5.246117704219109, 5.420951027891479, 4.197130952488377, 4.022836929917487, 4.382026634673881, 4.764325278519716, 4.944359564178421, 5.285391225758667, 4.605170185988092, 5.204398997807004, 4.909373162040518, 5.521460917862246, 5.0106352940962555]\n"
     ]
    }
   ],
   "source": [
    "x=train.property_type.unique()\n",
    "print(x)\n",
    "y=[]\n",
    "for a in x:\n",
    "    y.append(train[train['property_type']==a]['log_price'].mean())\n",
    "print(y)"
   ]
  },
  {
   "cell_type": "code",
   "execution_count": 189,
   "metadata": {},
   "outputs": [],
   "source": [
    "#Checking the distribution of apartment type"
   ]
  },
  {
   "cell_type": "code",
   "execution_count": 190,
   "metadata": {},
   "outputs": [
    {
     "data": {
      "text/plain": [
       "4.739299311829609"
      ]
     },
     "execution_count": 190,
     "metadata": {},
     "output_type": "execute_result"
    }
   ],
   "source": [
    "train[~train['property_type'].isin(['Apartment','House','Condominium','Loft','Townhouse'])]['log_price'].mean()"
   ]
  },
  {
   "cell_type": "code",
   "execution_count": 191,
   "metadata": {},
   "outputs": [
    {
     "name": "stdout",
     "output_type": "stream",
     "text": [
      "[66.1210886373143, 22.27874404609302, 3.5865121237063327, 1.6785632362267409, 2.283061893646017, 0.09445291522176195, 0.16596726531823885, 0.6233892404636289, 0.4938538138737839, 0.6719650254348207, 0.1916044851641457, 0.8190417077087071, 0.12683677186922318, 0.2415295974956484, 0.09310358786145106, 0.10389820674393815, 0.09580224258207284, 0.08770627842020753, 0.028335874566528585, 0.017541255684041506, 0.09715156994238372, 0.009445291522176196, 0.004047982080932655, 0.014842600963419736, 0.02428789248559593, 0.01079461888248708, 0.001349327360310885, 0.00809596416186531, 0.012143946242797965, 0.00539730944124354, 0.001349327360310885, 0.00269865472062177, 0.00269865472062177, 0.001349327360310885, 0.001349327360310885]\n"
     ]
    }
   ],
   "source": [
    "y1=[]\n",
    "for a in x:\n",
    "    y1.append((train[train['property_type']==a].shape[0]/train.shape[0])*100)\n",
    "print(y1)"
   ]
  },
  {
   "cell_type": "code",
   "execution_count": 192,
   "metadata": {},
   "outputs": [
    {
     "name": "stdout",
     "output_type": "stream",
     "text": [
      "['Apartment' 'House' 'Condominium' 'Loft' 'Townhouse' 'Hostel'\n",
      " 'Guest suite' 'Bed & Breakfast' 'Bungalow' 'Guesthouse' 'Dorm' 'Other'\n",
      " 'Camper/RV' 'Villa' 'Boutique hotel' 'Timeshare' 'In-law' 'Boat'\n",
      " 'Serviced apartment' 'Castle' 'Cabin' 'Treehouse' 'Tipi' 'Vacation home'\n",
      " 'Tent' 'Hut' 'Casa particular' 'Chalet' 'Yurt' 'Earth House'\n",
      " 'Parking Space' 'Train' 'Cave' 'Lighthouse' 'Island']\n",
      "[4.758850025405184, 4.797113575777436, 5.026538584026184, 5.0079187888927565, 4.833538580315444, 3.6473330657197867, 4.717513044476204, 4.556067512313946, 4.783267621119243, 4.685184390801043, 3.7461402760246605, 4.946366802624568, 4.602237913420423, 5.112426896999262, 5.083351792436799, 5.602600194590793, 4.816649318167724, 5.200864630766853, 5.147466758209801, 5.368423806591423, 4.646498617159732, 4.84552011428258, 5.246117704219109, 5.420951027891479, 4.197130952488377, 4.022836929917487, 4.382026634673881, 4.764325278519716, 4.944359564178421, 5.285391225758667, 4.605170185988092, 5.204398997807004, 4.909373162040518, 5.521460917862246, 5.0106352940962555]\n"
     ]
    }
   ],
   "source": [
    "x=train.property_type.unique()\n",
    "print(x)\n",
    "y=[]\n",
    "for a in x:\n",
    "    y.append(train[train['property_type']==a]['log_price'].mean())\n",
    "print(y)"
   ]
  },
  {
   "cell_type": "code",
   "execution_count": 193,
   "metadata": {},
   "outputs": [
    {
     "data": {
      "text/plain": [
       "4.739299311829609"
      ]
     },
     "execution_count": 193,
     "metadata": {},
     "output_type": "execute_result"
    }
   ],
   "source": [
    "train[~train['property_type'].isin(['Apartment','House','Condominium','Loft','Townhouse'])]['log_price'].mean()"
   ]
  },
  {
   "cell_type": "code",
   "execution_count": 194,
   "metadata": {},
   "outputs": [
    {
     "name": "stdout",
     "output_type": "stream",
     "text": [
      "[66.1210886373143, 22.27874404609302, 3.5865121237063327, 1.6785632362267409, 2.283061893646017, 0.09445291522176195, 0.16596726531823885, 0.6233892404636289, 0.4938538138737839, 0.6719650254348207, 0.1916044851641457, 0.8190417077087071, 0.12683677186922318, 0.2415295974956484, 0.09310358786145106, 0.10389820674393815, 0.09580224258207284, 0.08770627842020753, 0.028335874566528585, 0.017541255684041506, 0.09715156994238372, 0.009445291522176196, 0.004047982080932655, 0.014842600963419736, 0.02428789248559593, 0.01079461888248708, 0.001349327360310885, 0.00809596416186531, 0.012143946242797965, 0.00539730944124354, 0.001349327360310885, 0.00269865472062177, 0.00269865472062177, 0.001349327360310885, 0.001349327360310885]\n"
     ]
    }
   ],
   "source": [
    "y1=[]\n",
    "for a in x:\n",
    "    y1.append((train[train['property_type']==a].shape[0]/train.shape[0])*100)\n",
    "print(y1)"
   ]
  },
  {
   "cell_type": "code",
   "execution_count": 195,
   "metadata": {},
   "outputs": [],
   "source": [
    "#Checking distribution of the room type"
   ]
  },
  {
   "cell_type": "code",
   "execution_count": 196,
   "metadata": {},
   "outputs": [],
   "source": [
    "x=train.room_type.unique()"
   ]
  },
  {
   "cell_type": "code",
   "execution_count": 197,
   "metadata": {},
   "outputs": [
    {
     "name": "stdout",
     "output_type": "stream",
     "text": [
      "['Entire home/apt' 'Private room' 'Shared room']\n",
      "[5.167216959721771, 4.3277528365545095, 3.8615347541298277]\n"
     ]
    }
   ],
   "source": [
    "y=[]\n",
    "for a in x:\n",
    "    y.append(train[train['room_type']==a]['log_price'].mean())\n",
    "print(x)\n",
    "print(y)"
   ]
  },
  {
   "cell_type": "code",
   "execution_count": 198,
   "metadata": {},
   "outputs": [
    {
     "name": "stdout",
     "output_type": "stream",
     "text": [
      "[55.74071325444267, 41.34069166520489, 2.9185950803524445]\n"
     ]
    }
   ],
   "source": [
    "y1=[]\n",
    "for a in x:\n",
    "    y1.append((train[train['room_type']==a].shape[0]/train.shape[0])*100)\n",
    "print(y1)"
   ]
  },
  {
   "cell_type": "code",
   "execution_count": 199,
   "metadata": {},
   "outputs": [],
   "source": [
    "#Distribution of accomodation capacity"
   ]
  },
  {
   "cell_type": "code",
   "execution_count": 200,
   "metadata": {},
   "outputs": [],
   "source": [
    "x=train.accommodates.unique()"
   ]
  },
  {
   "cell_type": "code",
   "execution_count": 201,
   "metadata": {},
   "outputs": [
    {
     "name": "stdout",
     "output_type": "stream",
     "text": [
      "[ 1  2  3  4  5  6  7  8  9 10 11 12 13 14 15 16]\n"
     ]
    }
   ],
   "source": [
    "x=np.sort(x)\n",
    "print(x)"
   ]
  },
  {
   "cell_type": "code",
   "execution_count": 202,
   "metadata": {},
   "outputs": [
    {
     "name": "stdout",
     "output_type": "stream",
     "text": [
      "[ 1  2  3  4  5  6  7  8  9 10 11 12 13 14 15 16]\n",
      "[4.179498705117151, 4.552346111411474, 4.805300217711918, 5.062760802606993, 5.257154664986086, 5.4500174561694035, 5.532042786769811, 5.73297345239437, 5.706756607665438, 5.852773346056761, 5.834621745462745, 6.103809044333061, 5.877947298928759, 6.029038545020975, 5.991333206328234, 6.097753117846917]\n"
     ]
    }
   ],
   "source": [
    "y=[]\n",
    "for a in x:\n",
    "    y.append(train[train['accommodates']==a]['log_price'].mean())\n",
    "print(x)\n",
    "print(y)"
   ]
  },
  {
   "cell_type": "code",
   "execution_count": 203,
   "metadata": {},
   "outputs": [
    {
     "name": "stdout",
     "output_type": "stream",
     "text": [
      "[12.729554317172889, 42.98147373534293, 10.516657446263038, 16.280983929511137, 4.647083428910688, 6.704807653384788, 1.2764636828540974, 2.4220426117580387, 0.36431838728393895, 0.9458784795779304, 0.10659686146455992, 0.35622242312207364, 0.04857578497119186, 0.14033004547233205, 0.07286367745678779, 0.4061475354535764]\n"
     ]
    }
   ],
   "source": [
    "y1=[]\n",
    "for a in x:\n",
    "    y1.append((train[train['accommodates']==a].shape[0]/train.shape[0])*100)\n",
    "print(y1)"
   ]
  },
  {
   "cell_type": "code",
   "execution_count": 204,
   "metadata": {},
   "outputs": [],
   "source": [
    "#Distribution of bathrooms"
   ]
  },
  {
   "cell_type": "code",
   "execution_count": 205,
   "metadata": {},
   "outputs": [
    {
     "name": "stdout",
     "output_type": "stream",
     "text": [
      "[1.  1.5 2.  nan 2.5 3.  0.5 4.5 5.  0.  4.  3.5 5.5 7.5 6.  8.  7.  6.5]\n"
     ]
    }
   ],
   "source": [
    "x=train.bathrooms.unique()\n",
    "print(x)"
   ]
  },
  {
   "cell_type": "code",
   "execution_count": 206,
   "metadata": {},
   "outputs": [
    {
     "name": "stdout",
     "output_type": "stream",
     "text": [
      "[0.  0.5 1.  1.5 2.  2.5 3.  3.5 4.  4.5 5.  5.5 6.  6.5 7.  7.5 8.  nan]\n",
      "[0.  0.5 1.  1.5 2.  2.5 3.  3.5 4.  4.5 5.  5.5 6.  6.5 7.  7.5 8. ]\n"
     ]
    }
   ],
   "source": [
    "x=np.sort(x)\n",
    "print(x)\n",
    "x = x[~np.isnan(x)]\n",
    "print(x)"
   ]
  },
  {
   "cell_type": "code",
   "execution_count": 207,
   "metadata": {},
   "outputs": [
    {
     "name": "stdout",
     "output_type": "stream",
     "text": [
      "[0.  0.5 1.  1.5 2.  2.5 3.  3.5 4.  4.5 5.  5.5 6.  6.5 7.  7.5 8. ]\n",
      "[4.196514375686399, 4.2353363733213, 4.67396586978084, 4.778718127702659, 5.198798555926777, 5.5164328168149925, 5.537678304072114, 6.063392634820611, 5.675429522812858, 6.486015638662764, 6.280603237659001, 6.848374363903976, 6.741812890002497, 6.664458595286157, 6.798562585434513, 7.451450928368518, 4.6296302985124695]\n"
     ]
    }
   ],
   "source": [
    "y=[]\n",
    "for a in x:\n",
    "    y.append(train[train['bathrooms']==a]['log_price'].mean())\n",
    "print(x)\n",
    "print(y)"
   ]
  },
  {
   "cell_type": "code",
   "execution_count": 208,
   "metadata": {},
   "outputs": [
    {
     "name": "stdout",
     "output_type": "stream",
     "text": [
      "[0.26716681734155523, 0.282009418304975, 78.39457030670211, 5.128793296541674, 10.708261931427183, 2.1143959736071567, 1.4383829660914034, 0.5788614375733697, 0.3859076250489131, 0.15652197379606267, 0.09715156994238372, 0.052623767052124515, 0.03238385664746124, 0.01619192832373062, 0.01349327360310885, 0.00809596416186531, 0.05532242177274629]\n"
     ]
    }
   ],
   "source": [
    "y1=[]\n",
    "for a in x:\n",
    "    y1.append((train[train['bathrooms']==a].shape[0]/train.shape[0])*100)\n",
    "print(y1)"
   ]
  },
  {
   "cell_type": "code",
   "execution_count": 209,
   "metadata": {},
   "outputs": [],
   "source": [
    "#Let's look at listing ratings"
   ]
  },
  {
   "cell_type": "code",
   "execution_count": 210,
   "metadata": {},
   "outputs": [
    {
     "name": "stdout",
     "output_type": "stream",
     "text": [
      "[0.  0.5 1.  1.5 2.  2.5 3.  3.5 4.  4.5 5.  5.5 6.  6.5 7.  7.5 8. ]\n",
      "[nan, nan, nan, nan, nan, nan, nan, nan, nan, nan, nan, nan, nan, nan, nan, nan, nan]\n"
     ]
    }
   ],
   "source": [
    "y=[]\n",
    "for a in x:\n",
    "    y.append(train[train['review_scores_rating']==a]['log_price'].mean())\n",
    "print(x)\n",
    "print(y)"
   ]
  },
  {
   "cell_type": "code",
   "execution_count": 211,
   "metadata": {},
   "outputs": [],
   "source": [
    "r_band=[]\n",
    "for r in train['review_scores_rating']:\n",
    "    r = str(r)\n",
    "    r = r.strip('.')\n",
    "    r = float(r)\n",
    "    if r<=50:\n",
    "        r_band.append('a:<=50')\n",
    "    elif r>50 and r<=60:\n",
    "        r_band.append('b:<=60')\n",
    "    elif r>60 and r<=70:\n",
    "        r_band.append('c:<=70')\n",
    "    elif r>70 and r<=80:\n",
    "        r_band.append('d:<=80')\n",
    "    elif r>80 and r<=90:\n",
    "        r_band.append('e:<=90')\n",
    "    elif r>90 and r<=95:\n",
    "        r_band.append('f:<=95')\n",
    "    elif r>95:\n",
    "        r_band.append('g:>95')\n",
    "    else:\n",
    "        r=str(r)\n",
    "        r_band.append(r)"
   ]
  },
  {
   "cell_type": "code",
   "execution_count": 212,
   "metadata": {},
   "outputs": [],
   "source": [
    "train['r_band']=r_band"
   ]
  },
  {
   "cell_type": "code",
   "execution_count": 213,
   "metadata": {},
   "outputs": [
    {
     "name": "stdout",
     "output_type": "stream",
     "text": [
      "a:<=50\n",
      "b:<=60\n",
      "c:<=70\n",
      "d:<=80\n",
      "e:<=90\n",
      "f:<=95\n",
      "g:>95\n",
      "nan\n"
     ]
    }
   ],
   "source": [
    "x=train.r_band.unique()\n",
    "x=np.sort(x)\n",
    "print(*x,sep='\\n')"
   ]
  },
  {
   "cell_type": "code",
   "execution_count": 214,
   "metadata": {
    "scrolled": true
   },
   "outputs": [
    {
     "name": "stdout",
     "output_type": "stream",
     "text": [
      "0.31034529287150353\n",
      "0.6247385678239398\n",
      "0.47226457610880973\n",
      "3.8307403759226024\n",
      "11.41800812295071\n",
      "18.427763759765757\n",
      "42.35268718543806\n",
      "22.56345211911862\n"
     ]
    }
   ],
   "source": [
    "y1=[]\n",
    "for a in x:\n",
    "    y1.append((train[train['r_band']==a].shape[0]/train.shape[0])*100)\n",
    "print(*y1,sep='\\n')"
   ]
  },
  {
   "cell_type": "code",
   "execution_count": 215,
   "metadata": {},
   "outputs": [
    {
     "name": "stdout",
     "output_type": "stream",
     "text": [
      "['a:<=50' 'b:<=60' 'c:<=70' 'd:<=80' 'e:<=90' 'f:<=95' 'g:>95' 'nan']\n",
      "4.540410173542062\n",
      "4.556350643298796\n",
      "4.575162301798293\n",
      "4.622391201135779\n",
      "4.6509178985337485\n",
      "4.730949795991699\n",
      "4.801480963334183\n",
      "4.894763214557857\n"
     ]
    }
   ],
   "source": [
    "y=[]\n",
    "for a in x:\n",
    "    y.append(train[train['r_band']==a]['log_price'].mean())\n",
    "print(x)\n",
    "print(*y,sep='\\n')"
   ]
  },
  {
   "cell_type": "code",
   "execution_count": 216,
   "metadata": {},
   "outputs": [],
   "source": [
    "#Let's look at number of reviews for the listing"
   ]
  },
  {
   "cell_type": "code",
   "execution_count": 217,
   "metadata": {},
   "outputs": [],
   "source": [
    "n_band=[]\n",
    "for r in train['number_of_reviews']:\n",
    "    if r<=100:\n",
    "        n_band.append('a:<=100')\n",
    "    elif r>100 and r<=200:\n",
    "        n_band.append('b:<=200')\n",
    "    elif r>200 and r<=300:\n",
    "        n_band.append('c:<=300')\n",
    "    elif r>300 and r<=400:\n",
    "        n_band.append('d:<=400')\n",
    "    elif r>400 and r<=500:\n",
    "        n_band.append('e:<=500')\n",
    "    elif r>500:\n",
    "        n_band.append('f:>500')\n",
    "    else:\n",
    "        r=str(r)\n",
    "        n_band.append(r)"
   ]
  },
  {
   "cell_type": "code",
   "execution_count": 218,
   "metadata": {},
   "outputs": [],
   "source": [
    "train['n_band']=n_band"
   ]
  },
  {
   "cell_type": "code",
   "execution_count": 219,
   "metadata": {},
   "outputs": [
    {
     "name": "stdout",
     "output_type": "stream",
     "text": [
      "a:<=100\n",
      "b:<=200\n",
      "c:<=300\n",
      "d:<=400\n",
      "e:<=500\n",
      "f:>500\n"
     ]
    }
   ],
   "source": [
    "x=train.n_band.unique()\n",
    "x=np.sort(x)\n",
    "print(*x,sep='\\n')"
   ]
  },
  {
   "cell_type": "code",
   "execution_count": 220,
   "metadata": {},
   "outputs": [
    {
     "name": "stdout",
     "output_type": "stream",
     "text": [
      "95.45411612311263\n",
      "3.8509802863272657\n",
      "0.5437789262052867\n",
      "0.12683677186922318\n",
      "0.01619192832373062\n",
      "0.00809596416186531\n"
     ]
    }
   ],
   "source": [
    "y1=[]\n",
    "for a in x:\n",
    "    y1.append((train[train['n_band']==a].shape[0]/train.shape[0])*100)\n",
    "print(*y1,sep='\\n')"
   ]
  },
  {
   "cell_type": "code",
   "execution_count": 221,
   "metadata": {},
   "outputs": [
    {
     "name": "stdout",
     "output_type": "stream",
     "text": [
      "['a:<=100' 'b:<=200' 'c:<=300' 'd:<=400' 'e:<=500' 'f:>500']\n",
      "4.78508148935369\n",
      "4.730337861404175\n",
      "4.6671709559275705\n",
      "4.597613001354407\n",
      "4.489602762818031\n",
      "5.0639931273978895\n"
     ]
    }
   ],
   "source": [
    "y=[]\n",
    "for a in x:\n",
    "    y.append(train[train['n_band']==a]['log_price'].mean())\n",
    "print(x)\n",
    "print(*y,sep='\\n')"
   ]
  },
  {
   "cell_type": "code",
   "execution_count": 222,
   "metadata": {},
   "outputs": [],
   "source": [
    "#Let's look at the number of bedrooms"
   ]
  },
  {
   "cell_type": "code",
   "execution_count": 223,
   "metadata": {},
   "outputs": [
    {
     "name": "stdout",
     "output_type": "stream",
     "text": [
      "0.0\n",
      "1.0\n",
      "2.0\n",
      "3.0\n",
      "4.0\n",
      "5.0\n",
      "6.0\n",
      "7.0\n",
      "8.0\n",
      "9.0\n",
      "10.0\n"
     ]
    }
   ],
   "source": [
    "x=train.bedrooms.unique()\n",
    "x=np.sort(x)\n",
    "x = x[~np.isnan(x)]\n",
    "print(*x,sep='\\n')"
   ]
  },
  {
   "cell_type": "code",
   "execution_count": 224,
   "metadata": {},
   "outputs": [
    {
     "name": "stdout",
     "output_type": "stream",
     "text": [
      "9.060733224487592\n",
      "67.1749133057171\n",
      "15.316214866888856\n",
      "5.814251595579604\n",
      "1.7946053892134772\n",
      "0.4790112129103642\n",
      "0.1430287001929538\n",
      "0.05127443969181364\n",
      "0.018890583044352392\n",
      "0.01079461888248708\n",
      "0.01349327360310885\n"
     ]
    }
   ],
   "source": [
    "y1=[]\n",
    "for a in x:\n",
    "    y1.append((train[train['bedrooms']==a].shape[0]/train.shape[0])*100)\n",
    "print(*y1,sep='\\n')"
   ]
  },
  {
   "cell_type": "code",
   "execution_count": 225,
   "metadata": {},
   "outputs": [
    {
     "name": "stdout",
     "output_type": "stream",
     "text": [
      "[ 0.  1.  2.  3.  4.  5.  6.  7.  8.  9. 10.]\n",
      "4.821460161232413\n",
      "4.540539595206093\n",
      "5.276652285700921\n",
      "5.645130369767086\n",
      "5.989968478759397\n",
      "6.235148087979339\n",
      "6.499354268005425\n",
      "6.584989300136217\n",
      "6.454128465044333\n",
      "6.508683456012917\n",
      "6.4802187470901655\n"
     ]
    }
   ],
   "source": [
    "y=[]\n",
    "for a in x:\n",
    "    y.append(train[train['bedrooms']==a]['log_price'].mean())\n",
    "print(x)\n",
    "print(*y,sep='\\n')"
   ]
  },
  {
   "cell_type": "code",
   "execution_count": 226,
   "metadata": {},
   "outputs": [
    {
     "name": "stdout",
     "output_type": "stream",
     "text": [
      "[ 0.  1.  2.  3.  4.  5.  6.  7.  8.  9. 10.]\n"
     ]
    }
   ],
   "source": [
    "print(x)"
   ]
  },
  {
   "cell_type": "code",
   "execution_count": 227,
   "metadata": {},
   "outputs": [
    {
     "data": {
      "text/html": [
       "<div>\n",
       "<style scoped>\n",
       "    .dataframe tbody tr th:only-of-type {\n",
       "        vertical-align: middle;\n",
       "    }\n",
       "\n",
       "    .dataframe tbody tr th {\n",
       "        vertical-align: top;\n",
       "    }\n",
       "\n",
       "    .dataframe thead th {\n",
       "        text-align: right;\n",
       "    }\n",
       "</style>\n",
       "<table border=\"1\" class=\"dataframe\">\n",
       "  <thead>\n",
       "    <tr style=\"text-align: right;\">\n",
       "      <th></th>\n",
       "      <th>id</th>\n",
       "      <th>log_price</th>\n",
       "      <th>property_type</th>\n",
       "      <th>room_type</th>\n",
       "      <th>amenities</th>\n",
       "      <th>accommodates</th>\n",
       "      <th>bathrooms</th>\n",
       "      <th>bed_type</th>\n",
       "      <th>cancellation_policy</th>\n",
       "      <th>cleaning_fee</th>\n",
       "      <th>...</th>\n",
       "      <th>name</th>\n",
       "      <th>neighbourhood</th>\n",
       "      <th>number_of_reviews</th>\n",
       "      <th>review_scores_rating</th>\n",
       "      <th>thumbnail_url</th>\n",
       "      <th>zipcode</th>\n",
       "      <th>bedrooms</th>\n",
       "      <th>beds</th>\n",
       "      <th>r_band</th>\n",
       "      <th>n_band</th>\n",
       "    </tr>\n",
       "  </thead>\n",
       "  <tbody>\n",
       "    <tr>\n",
       "      <th>0</th>\n",
       "      <td>6901257</td>\n",
       "      <td>5.010635</td>\n",
       "      <td>Apartment</td>\n",
       "      <td>Entire home/apt</td>\n",
       "      <td>{\"Wireless Internet\",\"Air conditioning\",Kitche...</td>\n",
       "      <td>3</td>\n",
       "      <td>1.0</td>\n",
       "      <td>Real Bed</td>\n",
       "      <td>strict</td>\n",
       "      <td>True</td>\n",
       "      <td>...</td>\n",
       "      <td>Beautiful brownstone 1-bedroom</td>\n",
       "      <td>Brooklyn Heights</td>\n",
       "      <td>2</td>\n",
       "      <td>100.0</td>\n",
       "      <td>https://a0.muscache.com/im/pictures/6d7cbbf7-c...</td>\n",
       "      <td>11201</td>\n",
       "      <td>1.0</td>\n",
       "      <td>1.0</td>\n",
       "      <td>g:&gt;95</td>\n",
       "      <td>a:&lt;=100</td>\n",
       "    </tr>\n",
       "    <tr>\n",
       "      <th>1</th>\n",
       "      <td>6304928</td>\n",
       "      <td>5.129899</td>\n",
       "      <td>Apartment</td>\n",
       "      <td>Entire home/apt</td>\n",
       "      <td>{\"Wireless Internet\",\"Air conditioning\",Kitche...</td>\n",
       "      <td>7</td>\n",
       "      <td>1.0</td>\n",
       "      <td>Real Bed</td>\n",
       "      <td>strict</td>\n",
       "      <td>True</td>\n",
       "      <td>...</td>\n",
       "      <td>Superb 3BR Apt Located Near Times Square</td>\n",
       "      <td>Hell's Kitchen</td>\n",
       "      <td>6</td>\n",
       "      <td>93.0</td>\n",
       "      <td>https://a0.muscache.com/im/pictures/348a55fe-4...</td>\n",
       "      <td>10019</td>\n",
       "      <td>3.0</td>\n",
       "      <td>3.0</td>\n",
       "      <td>f:&lt;=95</td>\n",
       "      <td>a:&lt;=100</td>\n",
       "    </tr>\n",
       "    <tr>\n",
       "      <th>2</th>\n",
       "      <td>7919400</td>\n",
       "      <td>4.976734</td>\n",
       "      <td>Apartment</td>\n",
       "      <td>Entire home/apt</td>\n",
       "      <td>{TV,\"Cable TV\",\"Wireless Internet\",\"Air condit...</td>\n",
       "      <td>5</td>\n",
       "      <td>1.0</td>\n",
       "      <td>Real Bed</td>\n",
       "      <td>moderate</td>\n",
       "      <td>True</td>\n",
       "      <td>...</td>\n",
       "      <td>The Garden Oasis</td>\n",
       "      <td>Harlem</td>\n",
       "      <td>10</td>\n",
       "      <td>92.0</td>\n",
       "      <td>https://a0.muscache.com/im/pictures/6fae5362-9...</td>\n",
       "      <td>10027</td>\n",
       "      <td>1.0</td>\n",
       "      <td>3.0</td>\n",
       "      <td>f:&lt;=95</td>\n",
       "      <td>a:&lt;=100</td>\n",
       "    </tr>\n",
       "    <tr>\n",
       "      <th>3</th>\n",
       "      <td>13418779</td>\n",
       "      <td>6.620073</td>\n",
       "      <td>House</td>\n",
       "      <td>Entire home/apt</td>\n",
       "      <td>{TV,\"Cable TV\",Internet,\"Wireless Internet\",Ki...</td>\n",
       "      <td>4</td>\n",
       "      <td>1.0</td>\n",
       "      <td>Real Bed</td>\n",
       "      <td>flexible</td>\n",
       "      <td>True</td>\n",
       "      <td>...</td>\n",
       "      <td>Beautiful Flat in the Heart of SF!</td>\n",
       "      <td>Lower Haight</td>\n",
       "      <td>0</td>\n",
       "      <td>NaN</td>\n",
       "      <td>https://a0.muscache.com/im/pictures/72208dad-9...</td>\n",
       "      <td>94117.0</td>\n",
       "      <td>2.0</td>\n",
       "      <td>2.0</td>\n",
       "      <td>nan</td>\n",
       "      <td>a:&lt;=100</td>\n",
       "    </tr>\n",
       "    <tr>\n",
       "      <th>4</th>\n",
       "      <td>3808709</td>\n",
       "      <td>4.744932</td>\n",
       "      <td>Apartment</td>\n",
       "      <td>Entire home/apt</td>\n",
       "      <td>{TV,Internet,\"Wireless Internet\",\"Air conditio...</td>\n",
       "      <td>2</td>\n",
       "      <td>1.0</td>\n",
       "      <td>Real Bed</td>\n",
       "      <td>moderate</td>\n",
       "      <td>True</td>\n",
       "      <td>...</td>\n",
       "      <td>Great studio in midtown DC</td>\n",
       "      <td>Columbia Heights</td>\n",
       "      <td>4</td>\n",
       "      <td>40.0</td>\n",
       "      <td>NaN</td>\n",
       "      <td>20009</td>\n",
       "      <td>0.0</td>\n",
       "      <td>1.0</td>\n",
       "      <td>a:&lt;=50</td>\n",
       "      <td>a:&lt;=100</td>\n",
       "    </tr>\n",
       "  </tbody>\n",
       "</table>\n",
       "<p>5 rows × 31 columns</p>\n",
       "</div>"
      ],
      "text/plain": [
       "         id  log_price property_type        room_type  \\\n",
       "0   6901257   5.010635     Apartment  Entire home/apt   \n",
       "1   6304928   5.129899     Apartment  Entire home/apt   \n",
       "2   7919400   4.976734     Apartment  Entire home/apt   \n",
       "3  13418779   6.620073         House  Entire home/apt   \n",
       "4   3808709   4.744932     Apartment  Entire home/apt   \n",
       "\n",
       "                                           amenities  accommodates  bathrooms  \\\n",
       "0  {\"Wireless Internet\",\"Air conditioning\",Kitche...             3        1.0   \n",
       "1  {\"Wireless Internet\",\"Air conditioning\",Kitche...             7        1.0   \n",
       "2  {TV,\"Cable TV\",\"Wireless Internet\",\"Air condit...             5        1.0   \n",
       "3  {TV,\"Cable TV\",Internet,\"Wireless Internet\",Ki...             4        1.0   \n",
       "4  {TV,Internet,\"Wireless Internet\",\"Air conditio...             2        1.0   \n",
       "\n",
       "   bed_type cancellation_policy  cleaning_fee   ...     \\\n",
       "0  Real Bed              strict          True   ...      \n",
       "1  Real Bed              strict          True   ...      \n",
       "2  Real Bed            moderate          True   ...      \n",
       "3  Real Bed            flexible          True   ...      \n",
       "4  Real Bed            moderate          True   ...      \n",
       "\n",
       "                                       name     neighbourhood  \\\n",
       "0            Beautiful brownstone 1-bedroom  Brooklyn Heights   \n",
       "1  Superb 3BR Apt Located Near Times Square    Hell's Kitchen   \n",
       "2                          The Garden Oasis            Harlem   \n",
       "3        Beautiful Flat in the Heart of SF!      Lower Haight   \n",
       "4                Great studio in midtown DC  Columbia Heights   \n",
       "\n",
       "  number_of_reviews review_scores_rating  \\\n",
       "0                 2                100.0   \n",
       "1                 6                 93.0   \n",
       "2                10                 92.0   \n",
       "3                 0                  NaN   \n",
       "4                 4                 40.0   \n",
       "\n",
       "                                       thumbnail_url  zipcode bedrooms beds  \\\n",
       "0  https://a0.muscache.com/im/pictures/6d7cbbf7-c...    11201      1.0  1.0   \n",
       "1  https://a0.muscache.com/im/pictures/348a55fe-4...    10019      3.0  3.0   \n",
       "2  https://a0.muscache.com/im/pictures/6fae5362-9...    10027      1.0  3.0   \n",
       "3  https://a0.muscache.com/im/pictures/72208dad-9...  94117.0      2.0  2.0   \n",
       "4                                                NaN    20009      0.0  1.0   \n",
       "\n",
       "   r_band   n_band  \n",
       "0   g:>95  a:<=100  \n",
       "1  f:<=95  a:<=100  \n",
       "2  f:<=95  a:<=100  \n",
       "3     nan  a:<=100  \n",
       "4  a:<=50  a:<=100  \n",
       "\n",
       "[5 rows x 31 columns]"
      ]
     },
     "execution_count": 227,
     "metadata": {},
     "output_type": "execute_result"
    }
   ],
   "source": [
    "train.head()"
   ]
  },
  {
   "cell_type": "code",
   "execution_count": 228,
   "metadata": {},
   "outputs": [
    {
     "data": {
      "text/html": [
       "<div>\n",
       "<style scoped>\n",
       "    .dataframe tbody tr th:only-of-type {\n",
       "        vertical-align: middle;\n",
       "    }\n",
       "\n",
       "    .dataframe tbody tr th {\n",
       "        vertical-align: top;\n",
       "    }\n",
       "\n",
       "    .dataframe thead th {\n",
       "        text-align: right;\n",
       "    }\n",
       "</style>\n",
       "<table border=\"1\" class=\"dataframe\">\n",
       "  <thead>\n",
       "    <tr style=\"text-align: right;\">\n",
       "      <th></th>\n",
       "      <th>id</th>\n",
       "      <th>property_type</th>\n",
       "      <th>room_type</th>\n",
       "      <th>amenities</th>\n",
       "      <th>accommodates</th>\n",
       "      <th>bathrooms</th>\n",
       "      <th>bed_type</th>\n",
       "      <th>cancellation_policy</th>\n",
       "      <th>cleaning_fee</th>\n",
       "      <th>city</th>\n",
       "      <th>...</th>\n",
       "      <th>latitude</th>\n",
       "      <th>longitude</th>\n",
       "      <th>name</th>\n",
       "      <th>neighbourhood</th>\n",
       "      <th>number_of_reviews</th>\n",
       "      <th>review_scores_rating</th>\n",
       "      <th>thumbnail_url</th>\n",
       "      <th>zipcode</th>\n",
       "      <th>bedrooms</th>\n",
       "      <th>beds</th>\n",
       "    </tr>\n",
       "  </thead>\n",
       "  <tbody>\n",
       "    <tr>\n",
       "      <th>0</th>\n",
       "      <td>3895911</td>\n",
       "      <td>Apartment</td>\n",
       "      <td>Private room</td>\n",
       "      <td>{TV,\"Cable TV\",Kitchen,\"Free parking on premis...</td>\n",
       "      <td>2</td>\n",
       "      <td>1.0</td>\n",
       "      <td>Real Bed</td>\n",
       "      <td>flexible</td>\n",
       "      <td>True</td>\n",
       "      <td>LA</td>\n",
       "      <td>...</td>\n",
       "      <td>34.028372</td>\n",
       "      <td>-118.494449</td>\n",
       "      <td>Santa Monica Private Bedroom/Bathroom Suite</td>\n",
       "      <td>Santa Monica</td>\n",
       "      <td>6</td>\n",
       "      <td>97.0</td>\n",
       "      <td>https://a0.muscache.com/im/pictures/92355eae-b...</td>\n",
       "      <td>90403</td>\n",
       "      <td>1.0</td>\n",
       "      <td>1.0</td>\n",
       "    </tr>\n",
       "    <tr>\n",
       "      <th>1</th>\n",
       "      <td>9710289</td>\n",
       "      <td>Apartment</td>\n",
       "      <td>Entire home/apt</td>\n",
       "      <td>{TV,\"Cable TV\",\"Wireless Internet\",\"Air condit...</td>\n",
       "      <td>3</td>\n",
       "      <td>1.0</td>\n",
       "      <td>Real Bed</td>\n",
       "      <td>moderate</td>\n",
       "      <td>True</td>\n",
       "      <td>NYC</td>\n",
       "      <td>...</td>\n",
       "      <td>40.720380</td>\n",
       "      <td>-73.942329</td>\n",
       "      <td>Bright, charming luxury 1 BR with amazing rooftop</td>\n",
       "      <td>Williamsburg</td>\n",
       "      <td>2</td>\n",
       "      <td>80.0</td>\n",
       "      <td>https://a0.muscache.com/im/pictures/da03e413-d...</td>\n",
       "      <td>11222</td>\n",
       "      <td>1.0</td>\n",
       "      <td>1.0</td>\n",
       "    </tr>\n",
       "    <tr>\n",
       "      <th>2</th>\n",
       "      <td>9051635</td>\n",
       "      <td>Apartment</td>\n",
       "      <td>Private room</td>\n",
       "      <td>{\"Wireless Internet\",Kitchen,Heating,\"Family/k...</td>\n",
       "      <td>1</td>\n",
       "      <td>1.0</td>\n",
       "      <td>Real Bed</td>\n",
       "      <td>moderate</td>\n",
       "      <td>True</td>\n",
       "      <td>SF</td>\n",
       "      <td>...</td>\n",
       "      <td>37.785434</td>\n",
       "      <td>-122.470284</td>\n",
       "      <td>Private room in charming apartment</td>\n",
       "      <td>Richmond District</td>\n",
       "      <td>2</td>\n",
       "      <td>100.0</td>\n",
       "      <td>https://a0.muscache.com/im/pictures/0ba7d8aa-9...</td>\n",
       "      <td>94118</td>\n",
       "      <td>1.0</td>\n",
       "      <td>1.0</td>\n",
       "    </tr>\n",
       "    <tr>\n",
       "      <th>3</th>\n",
       "      <td>708374</td>\n",
       "      <td>Apartment</td>\n",
       "      <td>Entire home/apt</td>\n",
       "      <td>{TV,\"Cable TV\",Internet,\"Wireless Internet\",\"W...</td>\n",
       "      <td>1</td>\n",
       "      <td>1.0</td>\n",
       "      <td>Real Bed</td>\n",
       "      <td>strict</td>\n",
       "      <td>True</td>\n",
       "      <td>LA</td>\n",
       "      <td>...</td>\n",
       "      <td>33.976026</td>\n",
       "      <td>-118.463471</td>\n",
       "      <td>Marina del Rey Beach Jr 1 Bdrm 5</td>\n",
       "      <td>Marina Del Rey</td>\n",
       "      <td>7</td>\n",
       "      <td>94.0</td>\n",
       "      <td>https://a0.muscache.com/im/pictures/30279741/4...</td>\n",
       "      <td>90292</td>\n",
       "      <td>0.0</td>\n",
       "      <td>1.0</td>\n",
       "    </tr>\n",
       "    <tr>\n",
       "      <th>4</th>\n",
       "      <td>626296</td>\n",
       "      <td>Apartment</td>\n",
       "      <td>Entire home/apt</td>\n",
       "      <td>{TV,Internet,\"Wireless Internet\",\"Air conditio...</td>\n",
       "      <td>2</td>\n",
       "      <td>1.0</td>\n",
       "      <td>Real Bed</td>\n",
       "      <td>flexible</td>\n",
       "      <td>True</td>\n",
       "      <td>NYC</td>\n",
       "      <td>...</td>\n",
       "      <td>40.735573</td>\n",
       "      <td>-74.005996</td>\n",
       "      <td>Bright Studio Loft Prime Location</td>\n",
       "      <td>West Village</td>\n",
       "      <td>0</td>\n",
       "      <td>NaN</td>\n",
       "      <td>https://a0.muscache.com/im/pictures/9384e262-8...</td>\n",
       "      <td>10014</td>\n",
       "      <td>1.0</td>\n",
       "      <td>1.0</td>\n",
       "    </tr>\n",
       "  </tbody>\n",
       "</table>\n",
       "<p>5 rows × 28 columns</p>\n",
       "</div>"
      ],
      "text/plain": [
       "        id property_type        room_type  \\\n",
       "0  3895911     Apartment     Private room   \n",
       "1  9710289     Apartment  Entire home/apt   \n",
       "2  9051635     Apartment     Private room   \n",
       "3   708374     Apartment  Entire home/apt   \n",
       "4   626296     Apartment  Entire home/apt   \n",
       "\n",
       "                                           amenities  accommodates  bathrooms  \\\n",
       "0  {TV,\"Cable TV\",Kitchen,\"Free parking on premis...             2        1.0   \n",
       "1  {TV,\"Cable TV\",\"Wireless Internet\",\"Air condit...             3        1.0   \n",
       "2  {\"Wireless Internet\",Kitchen,Heating,\"Family/k...             1        1.0   \n",
       "3  {TV,\"Cable TV\",Internet,\"Wireless Internet\",\"W...             1        1.0   \n",
       "4  {TV,Internet,\"Wireless Internet\",\"Air conditio...             2        1.0   \n",
       "\n",
       "   bed_type cancellation_policy  cleaning_fee city  ...    latitude  \\\n",
       "0  Real Bed            flexible          True   LA  ...   34.028372   \n",
       "1  Real Bed            moderate          True  NYC  ...   40.720380   \n",
       "2  Real Bed            moderate          True   SF  ...   37.785434   \n",
       "3  Real Bed              strict          True   LA  ...   33.976026   \n",
       "4  Real Bed            flexible          True  NYC  ...   40.735573   \n",
       "\n",
       "    longitude                                               name  \\\n",
       "0 -118.494449        Santa Monica Private Bedroom/Bathroom Suite   \n",
       "1  -73.942329  Bright, charming luxury 1 BR with amazing rooftop   \n",
       "2 -122.470284                 Private room in charming apartment   \n",
       "3 -118.463471                   Marina del Rey Beach Jr 1 Bdrm 5   \n",
       "4  -74.005996                  Bright Studio Loft Prime Location   \n",
       "\n",
       "       neighbourhood number_of_reviews review_scores_rating  \\\n",
       "0       Santa Monica                 6                 97.0   \n",
       "1       Williamsburg                 2                 80.0   \n",
       "2  Richmond District                 2                100.0   \n",
       "3     Marina Del Rey                 7                 94.0   \n",
       "4       West Village                 0                  NaN   \n",
       "\n",
       "                                       thumbnail_url zipcode  bedrooms  beds  \n",
       "0  https://a0.muscache.com/im/pictures/92355eae-b...   90403       1.0   1.0  \n",
       "1  https://a0.muscache.com/im/pictures/da03e413-d...   11222       1.0   1.0  \n",
       "2  https://a0.muscache.com/im/pictures/0ba7d8aa-9...   94118       1.0   1.0  \n",
       "3  https://a0.muscache.com/im/pictures/30279741/4...   90292       0.0   1.0  \n",
       "4  https://a0.muscache.com/im/pictures/9384e262-8...   10014       1.0   1.0  \n",
       "\n",
       "[5 rows x 28 columns]"
      ]
     },
     "execution_count": 228,
     "metadata": {},
     "output_type": "execute_result"
    }
   ],
   "source": [
    "test.head()"
   ]
  },
  {
   "cell_type": "code",
   "execution_count": 229,
   "metadata": {},
   "outputs": [
    {
     "data": {
      "text/plain": [
       "log_price               1.000000\n",
       "accommodates            0.567574\n",
       "bedrooms                0.473212\n",
       "beds                    0.442153\n",
       "bathrooms               0.355420\n",
       "cleaning_fee            0.111191\n",
       "review_scores_rating    0.091219\n",
       "latitude               -0.002193\n",
       "id                     -0.007178\n",
       "number_of_reviews      -0.032470\n",
       "longitude              -0.047529\n",
       "Name: log_price, dtype: float64"
      ]
     },
     "execution_count": 229,
     "metadata": {},
     "output_type": "execute_result"
    }
   ],
   "source": [
    "corr_matrix = train.corr()\n",
    "corr_matrix[\"log_price\"].sort_values(ascending=False)"
   ]
  },
  {
   "cell_type": "code",
   "execution_count": 230,
   "metadata": {},
   "outputs": [
    {
     "data": {
      "image/png": "[encoded data removed]",
      "text/plain": [
       "<Figure size 976.125x900 with 25 Axes>"
      ]
     },
     "metadata": {},
     "output_type": "display_data"
    }
   ],
   "source": [
    "corrGraph = sns.PairGrid(train, hue=\"city\", vars=[\"log_price\", \"accommodates\",\"bedrooms\",\"beds\", \"bathrooms\"])\n",
    "corrGraph = corrGraph.map(plt.scatter)\n",
    "corrGraph = corrGraph.add_legend()"
   ]
  },
  {
   "cell_type": "code",
   "execution_count": 231,
   "metadata": {},
   "outputs": [
    {
     "data": {
      "image/png": "[encoded data removed]",
      "text/plain": [
       "<Figure size 796.125x720 with 16 Axes>"
      ]
     },
     "metadata": {},
     "output_type": "display_data"
    }
   ],
   "source": [
    "corrGraph = sns.PairGrid(train, hue=\"city\", vars=[\"log_price\",\"cleaning_fee\",\"review_scores_rating\", \"number_of_reviews\"])\n",
    "corrGraph = corrGraph.map(plt.scatter)\n",
    "corrGraph = corrGraph.add_legend()"
   ]
  },
  {
   "cell_type": "code",
   "execution_count": 232,
   "metadata": {},
   "outputs": [
    {
     "data": {
      "text/plain": [
       "'\\nThe above correlation graphs suggest that we need to take city into consideration and create a variable such as distance from the\\ncity center as this would make more sense than longitude and latitude\\n'"
      ]
     },
     "execution_count": 232,
     "metadata": {},
     "output_type": "execute_result"
    }
   ],
   "source": [
    "'''\n",
    "The above correlation graphs suggest that we need to take city into consideration and create a variable such as distance from the\n",
    "city center as this would make more sense than longitude and latitude\n",
    "'''"
   ]
  },
  {
   "cell_type": "code",
   "execution_count": 233,
   "metadata": {},
   "outputs": [],
   "source": [
    "def haversine(longitude_1, latitude_1, longitude_2, latitude_2):\n",
    "    \"\"\"\n",
    "    This haversine formula is used to calculate the circular distance between two points on earth\n",
    "    \"\"\"\n",
    "    # Conversion to radians\n",
    "    longitude_1, latitude_1, longitude_2, latitude_2 = map(radians, [longitude_1, latitude_1, longitude_2, latitude_2])\n",
    "\n",
    "    dlongitude = longitude_2 - longitude_1 \n",
    "    dlatitude = latitude_2 - latitude_1 \n",
    "    a = sin(dlatitude/2)**2 + cos(latitude_1) * cos(latitude_2) * sin(dlongitude/2)**2\n",
    "    c = 2 * asin(sqrt(a)) \n",
    "    r = 6371 # 3956 Radius of earth in miles.\n",
    "    distance = c * r\n",
    "    return distance"
   ]
  },
  {
   "cell_type": "code",
   "execution_count": 234,
   "metadata": {},
   "outputs": [],
   "source": [
    "#Adding the distance to city center column to make sense of the longitude and latitude columns\n",
    "train['distance_to_citycenter'] = train.apply(lambda row: haversine(row['longitude'], row['latitude'], 40.7638 ,73.9795) if row['city'] == 'NYC' else \n",
    "                                              haversine(row['longitude'], row['latitude'], 34.0522 ,118.2347) if row['city'] == 'LA' else\n",
    "                                              haversine(row['longitude'], row['latitude'], 41.8781 ,87.6298) if row['city'] == 'Chicago' else\n",
    "                                              haversine(row['longitude'], row['latitude'], 37.7749 ,122.4194) if row['city'] == 'SF' else\n",
    "                                              haversine(row['longitude'], row['latitude'], 42.3601 ,71.0589) if row['city'] == 'Boston' else \n",
    "                                              haversine(row['longitude'], row['latitude'], 41.2874 ,96.0985) if row['city'] == 'DC' else -1\n",
    "                                              , axis=1)   "
   ]
  },
  {
   "cell_type": "code",
   "execution_count": 235,
   "metadata": {},
   "outputs": [
    {
     "data": {
      "text/html": [
       "<div>\n",
       "<style scoped>\n",
       "    .dataframe tbody tr th:only-of-type {\n",
       "        vertical-align: middle;\n",
       "    }\n",
       "\n",
       "    .dataframe tbody tr th {\n",
       "        vertical-align: top;\n",
       "    }\n",
       "\n",
       "    .dataframe thead th {\n",
       "        text-align: right;\n",
       "    }\n",
       "</style>\n",
       "<table border=\"1\" class=\"dataframe\">\n",
       "  <thead>\n",
       "    <tr style=\"text-align: right;\">\n",
       "      <th></th>\n",
       "      <th>distance_to_citycenter</th>\n",
       "      <th>city</th>\n",
       "    </tr>\n",
       "  </thead>\n",
       "  <tbody>\n",
       "    <tr>\n",
       "      <th>30667</th>\n",
       "      <td>3648.516554</td>\n",
       "      <td>LA</td>\n",
       "    </tr>\n",
       "    <tr>\n",
       "      <th>33511</th>\n",
       "      <td>3644.072249</td>\n",
       "      <td>LA</td>\n",
       "    </tr>\n",
       "    <tr>\n",
       "      <th>56233</th>\n",
       "      <td>6380.014639</td>\n",
       "      <td>NYC</td>\n",
       "    </tr>\n",
       "    <tr>\n",
       "      <th>50246</th>\n",
       "      <td>6378.393652</td>\n",
       "      <td>NYC</td>\n",
       "    </tr>\n",
       "    <tr>\n",
       "      <th>62597</th>\n",
       "      <td>6365.820244</td>\n",
       "      <td>NYC</td>\n",
       "    </tr>\n",
       "    <tr>\n",
       "      <th>73737</th>\n",
       "      <td>3644.122132</td>\n",
       "      <td>LA</td>\n",
       "    </tr>\n",
       "    <tr>\n",
       "      <th>40456</th>\n",
       "      <td>5378.318020</td>\n",
       "      <td>DC</td>\n",
       "    </tr>\n",
       "    <tr>\n",
       "      <th>44555</th>\n",
       "      <td>2632.072505</td>\n",
       "      <td>SF</td>\n",
       "    </tr>\n",
       "    <tr>\n",
       "      <th>28179</th>\n",
       "      <td>6367.647705</td>\n",
       "      <td>NYC</td>\n",
       "    </tr>\n",
       "    <tr>\n",
       "      <th>9614</th>\n",
       "      <td>3681.061342</td>\n",
       "      <td>LA</td>\n",
       "    </tr>\n",
       "  </tbody>\n",
       "</table>\n",
       "</div>"
      ],
      "text/plain": [
       "       distance_to_citycenter city\n",
       "30667             3648.516554   LA\n",
       "33511             3644.072249   LA\n",
       "56233             6380.014639  NYC\n",
       "50246             6378.393652  NYC\n",
       "62597             6365.820244  NYC\n",
       "73737             3644.122132   LA\n",
       "40456             5378.318020   DC\n",
       "44555             2632.072505   SF\n",
       "28179             6367.647705  NYC\n",
       "9614              3681.061342   LA"
      ]
     },
     "execution_count": 235,
     "metadata": {},
     "output_type": "execute_result"
    }
   ],
   "source": [
    "train[['distance_to_citycenter','city']].sample(10)"
   ]
  },
  {
   "cell_type": "code",
   "execution_count": 236,
   "metadata": {},
   "outputs": [],
   "source": [
    "#Using Sentiment analyzer to identify sentiment behind name and description mentioned online"
   ]
  },
  {
   "cell_type": "code",
   "execution_count": 237,
   "metadata": {},
   "outputs": [
    {
     "name": "stdout",
     "output_type": "stream",
     "text": [
      "Beautiful brownstone 1-bedroom\n",
      "compound: 0.5994, neg: 0.0, neu: 0.339, pos: 0.661, \n",
      "Superb 3BR Apt Located Near Times Square\n",
      "compound: 0.6249, neg: 0.0, neu: 0.594, pos: 0.406, \n"
     ]
    }
   ],
   "source": [
    "import nltk\n",
    "from nltk.sentiment.vader import SentimentIntensityAnalyzer\n",
    "sia = SentimentIntensityAnalyzer()\n",
    "for s in train['name'].values[:2]:\n",
    "    print(s)\n",
    "    ss = sia.polarity_scores(s)\n",
    "    for k in sorted(ss):\n",
    "        print('{0}: {1}, '.format(k, ss[k]), end='')\n",
    "    print()"
   ]
  },
  {
   "cell_type": "code",
   "execution_count": 238,
   "metadata": {},
   "outputs": [],
   "source": [
    "description_list = [d for d in train['description']]\n",
    "polarity_scores_description = [sia.polarity_scores(description) for description in description_list]\n",
    "name_list = [n for n in train['name']]\n",
    "polarity_scores_name = [sia.polarity_scores(name) for name in name_list]"
   ]
  },
  {
   "cell_type": "code",
   "execution_count": 239,
   "metadata": {},
   "outputs": [
    {
     "name": "stdout",
     "output_type": "stream",
     "text": [
      "['neg', 'neu', 'pos', 'compound']\n"
     ]
    }
   ],
   "source": [
    "varList=[]\n",
    "for i in polarity_scores_description:\n",
    "    for j in i:\n",
    "        varList.append(j)\n",
    "    break\n",
    "print(varList)"
   ]
  },
  {
   "cell_type": "code",
   "execution_count": 240,
   "metadata": {},
   "outputs": [],
   "source": [
    "def addSentimentScores(Variable, dataset,varList,sentimentList):\n",
    "    '''\n",
    "    Adding sentiment scores to the dataset based on the variable \n",
    "    '''\n",
    "    for i in varList:\n",
    "        varName=Variable+'_'+i+'_sentiment'\n",
    "        dataset[varName] = [score[i] for score in sentimentList]\n"
   ]
  },
  {
   "cell_type": "code",
   "execution_count": 241,
   "metadata": {},
   "outputs": [
    {
     "name": "stdout",
     "output_type": "stream",
     "text": [
      "0.048\n"
     ]
    }
   ],
   "source": [
    "for score in polarity_scores_description:\n",
    "    print(score['neg'])\n",
    "    break"
   ]
  },
  {
   "cell_type": "code",
   "execution_count": 242,
   "metadata": {},
   "outputs": [],
   "source": [
    "addSentimentScores('description', train,varList,polarity_scores_description)\n",
    "addSentimentScores('name', train,varList,polarity_scores_name)"
   ]
  },
  {
   "cell_type": "code",
   "execution_count": 243,
   "metadata": {},
   "outputs": [],
   "source": [
    "from datetime import datetime\n",
    "from dateutil.parser import parse\n",
    "from datetime import timedelta\n",
    "#This function is taking the max dates for each of the city and converting to datetime object\n",
    "def data_max_date(row):\n",
    "    if (row['city']=='Boston'):\n",
    "        return datetime.strptime('2017-10-04', '%Y-%m-%d').date()\n",
    "    elif (row['city']=='NYC'):\n",
    "        return datetime.strptime('2017-10-01', '%Y-%m-%d').date()\n",
    "    elif (row['city']=='LA'):\n",
    "        return datetime.strptime('2017-05-02', '%Y-%m-%d').date()   \n",
    "    elif (row['city']=='SF'):\n",
    "        return datetime.strptime('2017-05-06', '%Y-%m-%d').date()     \n",
    "    elif (row['city']=='Chicago'):\n",
    "        return datetime.strptime('2017-05-09', '%Y-%m-%d').date()    \n",
    "    elif (row['city']=='DC'):\n",
    "        return datetime.strptime('2017-05-10', '%Y-%m-%d').date() \n",
    "\n",
    "train['data_max_date']=train.apply(lambda row: data_max_date(row), axis=1)"
   ]
  },
  {
   "cell_type": "code",
   "execution_count": 244,
   "metadata": {},
   "outputs": [
    {
     "data": {
      "text/plain": [
       "4778     2017-05-02\n",
       "30274    2017-10-01\n",
       "22132    2017-05-02\n",
       "65293    2017-10-01\n",
       "27986    2017-05-02\n",
       "1233     2017-05-02\n",
       "43393    2017-10-01\n",
       "16574    2017-10-01\n",
       "39031    2017-10-01\n",
       "26226    2017-05-02\n",
       "Name: data_max_date, dtype: object"
      ]
     },
     "execution_count": 244,
     "metadata": {},
     "output_type": "execute_result"
    }
   ],
   "source": [
    "train['data_max_date'].sample(10)"
   ]
  },
  {
   "cell_type": "code",
   "execution_count": 245,
   "metadata": {},
   "outputs": [],
   "source": [
    "#Converting first_review, host since and last review to datetime\n",
    "train['first_review'] = pd.to_datetime(train['first_review'])\n",
    "train['host_since'] = pd.to_datetime(train['host_since'])\n",
    "train['last_review'] = pd.to_datetime(train['last_review'])"
   ]
  },
  {
   "cell_type": "code",
   "execution_count": 246,
   "metadata": {},
   "outputs": [
    {
     "data": {
      "text/plain": [
       "41721   2014-01-11\n",
       "53424   2017-04-11\n",
       "37901   2016-03-16\n",
       "4167           NaT\n",
       "74042   2016-07-06\n",
       "63428   2015-05-06\n",
       "33862   2014-08-25\n",
       "48575   2015-06-25\n",
       "61558   2017-06-03\n",
       "38255   2015-07-19\n",
       "Name: first_review, dtype: datetime64[ns]"
      ]
     },
     "execution_count": 246,
     "metadata": {},
     "output_type": "execute_result"
    }
   ],
   "source": [
    "train['first_review'].sample(10)"
   ]
  },
  {
   "cell_type": "code",
   "execution_count": 247,
   "metadata": {},
   "outputs": [],
   "source": [
    "train['first_review'] = train['first_review'].apply(lambda x: x.date())\n",
    "train['host_since'] = train['host_since'].apply(lambda x: x.date())\n",
    "train['last_review'] = train['last_review'].apply(lambda x: x.date())"
   ]
  },
  {
   "cell_type": "code",
   "execution_count": 250,
   "metadata": {},
   "outputs": [
    {
     "data": {
      "text/plain": [
       "0.2140572924397188"
      ]
     },
     "execution_count": 250,
     "metadata": {},
     "output_type": "execute_result"
    }
   ],
   "source": [
    "train['first_review'].isnull().sum()/train['first_review'].shape[0]"
   ]
  },
  {
   "cell_type": "code",
   "execution_count": 252,
   "metadata": {},
   "outputs": [
    {
     "data": {
      "text/plain": [
       "0.0025367354373844637"
      ]
     },
     "execution_count": 252,
     "metadata": {},
     "output_type": "execute_result"
    }
   ],
   "source": [
    "train['host_since'].isnull().sum()/train['host_since'].shape[0]"
   ]
  },
  {
   "cell_type": "code",
   "execution_count": 253,
   "metadata": {},
   "outputs": [
    {
     "data": {
      "text/plain": [
       "0.21355804131640377"
      ]
     },
     "execution_count": 253,
     "metadata": {},
     "output_type": "execute_result"
    }
   ],
   "source": [
    "train['last_review'].isnull().sum()/train['last_review'].shape[0]"
   ]
  },
  {
   "cell_type": "code",
   "execution_count": 249,
   "metadata": {},
   "outputs": [
    {
     "data": {
      "text/plain": [
       "(74111,)"
      ]
     },
     "execution_count": 249,
     "metadata": {},
     "output_type": "execute_result"
    }
   ],
   "source": [
    "train['first_review'].shape"
   ]
  },
  {
   "cell_type": "code",
   "execution_count": 185,
   "metadata": {},
   "outputs": [],
   "source": [
    "train['DateDiffFirstReview'] = (train.data_max_date - train.first_review)/ np.timedelta64(1, 'D')\n",
    "train['DateDiffHostSince'] = (train.data_max_date - train.host_since)/ np.timedelta64(1, 'D')\n",
    "train['DateDiffLastReview'] = (train.data_max_date - train.last_review)/ np.timedelta64(1, 'D')\n",
    "train['DateDiffFirstReview'].fillna(0, inplace=True)\n",
    "train['DateDiffHostSince'].fillna(0, inplace=True)\n",
    "train['DateDiffLastReview'].fillna(0, inplace=True)"
   ]
  },
  {
   "cell_type": "code",
   "execution_count": null,
   "metadata": {},
   "outputs": [],
   "source": []
  },
  {
   "cell_type": "code",
   "execution_count": 21,
   "metadata": {},
   "outputs": [],
   "source": [
    "'''Let's classify listings that have photos versus listings that do not have photos\n",
    "We can do this by using the thumbnail variable'''\n",
    "train['thumbnail_url'].fillna(0, inplace=True)\n",
    "def photo(row):\n",
    "    if (row['thumbnail_url']==0):\n",
    "        return 0\n",
    "    else:\n",
    "        return 1\n",
    "train['photo']=train.apply(lambda row: photo(row), axis=1)"
   ]
  },
  {
   "cell_type": "code",
   "execution_count": 22,
   "metadata": {},
   "outputs": [
    {
     "data": {
      "text/plain": [
       "\"Done with adding features for now\\nLet's work on feature engineering\""
      ]
     },
     "execution_count": 22,
     "metadata": {},
     "output_type": "execute_result"
    }
   ],
   "source": [
    "'''Done with adding features for now\n",
    "Let's work on feature engineering'''\n"
   ]
  },
  {
   "cell_type": "code",
   "execution_count": 23,
   "metadata": {},
   "outputs": [
    {
     "data": {
      "text/plain": [
       "(74111, 43)"
      ]
     },
     "execution_count": 23,
     "metadata": {},
     "output_type": "execute_result"
    }
   ],
   "source": [
    "train.shape"
   ]
  },
  {
   "cell_type": "code",
   "execution_count": 24,
   "metadata": {},
   "outputs": [],
   "source": [
    "train['amenities'] = train['amenities'].map(\n",
    "    lambda amenities: \"|\".join([amn.replace(\"}\", \"\").replace(\"{\", \"\").replace('\"', \"\")\\\n",
    "                           for amn in amenities.split(\",\")]))"
   ]
  },
  {
   "cell_type": "code",
   "execution_count": 25,
   "metadata": {},
   "outputs": [],
   "source": [
    "amenities = np.unique(np.concatenate(train['amenities'].map(lambda amns: amns.split(\"|\"))))"
   ]
  },
  {
   "cell_type": "code",
   "execution_count": 26,
   "metadata": {},
   "outputs": [
    {
     "data": {
      "text/plain": [
       "131"
      ]
     },
     "execution_count": 26,
     "metadata": {},
     "output_type": "execute_result"
    }
   ],
   "source": [
    "amenities.size"
   ]
  },
  {
   "cell_type": "code",
   "execution_count": 27,
   "metadata": {},
   "outputs": [],
   "source": [
    "amenity_arr = np.array([train['amenities'].map(lambda amns: amn in amns) for amn in amenities])"
   ]
  },
  {
   "cell_type": "code",
   "execution_count": 28,
   "metadata": {},
   "outputs": [
    {
     "data": {
      "text/plain": [
       "(74111, 43)"
      ]
     },
     "execution_count": 28,
     "metadata": {},
     "output_type": "execute_result"
    }
   ],
   "source": [
    "train.shape"
   ]
  },
  {
   "cell_type": "code",
   "execution_count": 29,
   "metadata": {},
   "outputs": [],
   "source": [
    "temp=pd.DataFrame(amenity_arr)\n",
    "temp=temp.T"
   ]
  },
  {
   "cell_type": "code",
   "execution_count": 30,
   "metadata": {},
   "outputs": [
    {
     "data": {
      "text/html": [
       "<div>\n",
       "<style scoped>\n",
       "    .dataframe tbody tr th:only-of-type {\n",
       "        vertical-align: middle;\n",
       "    }\n",
       "\n",
       "    .dataframe tbody tr th {\n",
       "        vertical-align: top;\n",
       "    }\n",
       "\n",
       "    .dataframe thead th {\n",
       "        text-align: right;\n",
       "    }\n",
       "</style>\n",
       "<table border=\"1\" class=\"dataframe\">\n",
       "  <thead>\n",
       "    <tr style=\"text-align: right;\">\n",
       "      <th></th>\n",
       "      <th>0</th>\n",
       "      <th>1</th>\n",
       "      <th>2</th>\n",
       "      <th>3</th>\n",
       "      <th>4</th>\n",
       "      <th>5</th>\n",
       "      <th>6</th>\n",
       "      <th>7</th>\n",
       "      <th>8</th>\n",
       "      <th>9</th>\n",
       "      <th>...</th>\n",
       "      <th>121</th>\n",
       "      <th>122</th>\n",
       "      <th>123</th>\n",
       "      <th>124</th>\n",
       "      <th>125</th>\n",
       "      <th>126</th>\n",
       "      <th>127</th>\n",
       "      <th>128</th>\n",
       "      <th>129</th>\n",
       "      <th>130</th>\n",
       "    </tr>\n",
       "  </thead>\n",
       "  <tbody>\n",
       "    <tr>\n",
       "      <th>0</th>\n",
       "      <td>True</td>\n",
       "      <td>False</td>\n",
       "      <td>False</td>\n",
       "      <td>False</td>\n",
       "      <td>False</td>\n",
       "      <td>True</td>\n",
       "      <td>False</td>\n",
       "      <td>False</td>\n",
       "      <td>False</td>\n",
       "      <td>False</td>\n",
       "      <td>...</td>\n",
       "      <td>False</td>\n",
       "      <td>False</td>\n",
       "      <td>False</td>\n",
       "      <td>False</td>\n",
       "      <td>False</td>\n",
       "      <td>False</td>\n",
       "      <td>False</td>\n",
       "      <td>True</td>\n",
       "      <td>False</td>\n",
       "      <td>True</td>\n",
       "    </tr>\n",
       "    <tr>\n",
       "      <th>1</th>\n",
       "      <td>True</td>\n",
       "      <td>False</td>\n",
       "      <td>False</td>\n",
       "      <td>False</td>\n",
       "      <td>False</td>\n",
       "      <td>True</td>\n",
       "      <td>False</td>\n",
       "      <td>False</td>\n",
       "      <td>False</td>\n",
       "      <td>False</td>\n",
       "      <td>...</td>\n",
       "      <td>False</td>\n",
       "      <td>False</td>\n",
       "      <td>False</td>\n",
       "      <td>False</td>\n",
       "      <td>False</td>\n",
       "      <td>False</td>\n",
       "      <td>False</td>\n",
       "      <td>True</td>\n",
       "      <td>False</td>\n",
       "      <td>True</td>\n",
       "    </tr>\n",
       "    <tr>\n",
       "      <th>2</th>\n",
       "      <td>True</td>\n",
       "      <td>False</td>\n",
       "      <td>False</td>\n",
       "      <td>False</td>\n",
       "      <td>False</td>\n",
       "      <td>True</td>\n",
       "      <td>False</td>\n",
       "      <td>False</td>\n",
       "      <td>False</td>\n",
       "      <td>False</td>\n",
       "      <td>...</td>\n",
       "      <td>False</td>\n",
       "      <td>False</td>\n",
       "      <td>False</td>\n",
       "      <td>False</td>\n",
       "      <td>False</td>\n",
       "      <td>False</td>\n",
       "      <td>False</td>\n",
       "      <td>True</td>\n",
       "      <td>False</td>\n",
       "      <td>True</td>\n",
       "    </tr>\n",
       "    <tr>\n",
       "      <th>3</th>\n",
       "      <td>True</td>\n",
       "      <td>False</td>\n",
       "      <td>False</td>\n",
       "      <td>False</td>\n",
       "      <td>False</td>\n",
       "      <td>False</td>\n",
       "      <td>False</td>\n",
       "      <td>False</td>\n",
       "      <td>False</td>\n",
       "      <td>False</td>\n",
       "      <td>...</td>\n",
       "      <td>False</td>\n",
       "      <td>False</td>\n",
       "      <td>False</td>\n",
       "      <td>False</td>\n",
       "      <td>False</td>\n",
       "      <td>False</td>\n",
       "      <td>False</td>\n",
       "      <td>True</td>\n",
       "      <td>False</td>\n",
       "      <td>False</td>\n",
       "    </tr>\n",
       "    <tr>\n",
       "      <th>4</th>\n",
       "      <td>True</td>\n",
       "      <td>False</td>\n",
       "      <td>False</td>\n",
       "      <td>False</td>\n",
       "      <td>False</td>\n",
       "      <td>True</td>\n",
       "      <td>False</td>\n",
       "      <td>False</td>\n",
       "      <td>False</td>\n",
       "      <td>False</td>\n",
       "      <td>...</td>\n",
       "      <td>False</td>\n",
       "      <td>False</td>\n",
       "      <td>False</td>\n",
       "      <td>False</td>\n",
       "      <td>False</td>\n",
       "      <td>False</td>\n",
       "      <td>False</td>\n",
       "      <td>True</td>\n",
       "      <td>False</td>\n",
       "      <td>False</td>\n",
       "    </tr>\n",
       "  </tbody>\n",
       "</table>\n",
       "<p>5 rows × 131 columns</p>\n",
       "</div>"
      ],
      "text/plain": [
       "    0      1      2      3      4      5      6      7      8      9    ...    \\\n",
       "0  True  False  False  False  False   True  False  False  False  False  ...     \n",
       "1  True  False  False  False  False   True  False  False  False  False  ...     \n",
       "2  True  False  False  False  False   True  False  False  False  False  ...     \n",
       "3  True  False  False  False  False  False  False  False  False  False  ...     \n",
       "4  True  False  False  False  False   True  False  False  False  False  ...     \n",
       "\n",
       "     121    122    123    124    125    126    127   128    129    130  \n",
       "0  False  False  False  False  False  False  False  True  False   True  \n",
       "1  False  False  False  False  False  False  False  True  False   True  \n",
       "2  False  False  False  False  False  False  False  True  False   True  \n",
       "3  False  False  False  False  False  False  False  True  False  False  \n",
       "4  False  False  False  False  False  False  False  True  False  False  \n",
       "\n",
       "[5 rows x 131 columns]"
      ]
     },
     "execution_count": 30,
     "metadata": {},
     "output_type": "execute_result"
    }
   ],
   "source": [
    "temp.head()"
   ]
  },
  {
   "cell_type": "code",
   "execution_count": 31,
   "metadata": {},
   "outputs": [
    {
     "data": {
      "text/plain": [
       "(74111, 131)"
      ]
     },
     "execution_count": 31,
     "metadata": {},
     "output_type": "execute_result"
    }
   ],
   "source": [
    "temp.shape"
   ]
  },
  {
   "cell_type": "code",
   "execution_count": 32,
   "metadata": {},
   "outputs": [],
   "source": [
    "train[amenities]=temp"
   ]
  },
  {
   "cell_type": "code",
   "execution_count": 33,
   "metadata": {},
   "outputs": [
    {
     "data": {
      "text/plain": [
       "(74111, 174)"
      ]
     },
     "execution_count": 33,
     "metadata": {},
     "output_type": "execute_result"
    }
   ],
   "source": [
    "train.shape"
   ]
  },
  {
   "cell_type": "code",
   "execution_count": 34,
   "metadata": {},
   "outputs": [
    {
     "data": {
      "text/plain": [
       "131"
      ]
     },
     "execution_count": 34,
     "metadata": {},
     "output_type": "execute_result"
    }
   ],
   "source": [
    "amenities.size"
   ]
  },
  {
   "cell_type": "code",
   "execution_count": 35,
   "metadata": {},
   "outputs": [],
   "source": [
    "#Converting true false to 1,0's\n",
    "for a in amenities:\n",
    "    train[a] = train[a].astype(int)"
   ]
  },
  {
   "cell_type": "code",
   "execution_count": 36,
   "metadata": {},
   "outputs": [],
   "source": [
    "training_data=train"
   ]
  },
  {
   "cell_type": "code",
   "execution_count": 37,
   "metadata": {},
   "outputs": [],
   "source": [
    "#Dropped data_max_date column\n",
    "training_data=training_data.drop(['name', 'description', 'data_max_date', 'first_review', 'host_since', 'last_review', 'thumbnail_url', 'amenities'],axis=1)"
   ]
  },
  {
   "cell_type": "code",
   "execution_count": 38,
   "metadata": {},
   "outputs": [
    {
     "data": {
      "text/plain": [
       "(74111, 166)"
      ]
     },
     "execution_count": 38,
     "metadata": {},
     "output_type": "execute_result"
    }
   ],
   "source": [
    "training_data.shape"
   ]
  },
  {
   "cell_type": "code",
   "execution_count": 39,
   "metadata": {},
   "outputs": [],
   "source": [
    "for tf_feature in ['host_identity_verified', 'host_has_profile_pic', 'instant_bookable']:\n",
    "    training_data[tf_feature] = training_data[tf_feature].map(lambda s: 0 if s == \"f\" else 1)"
   ]
  },
  {
   "cell_type": "code",
   "execution_count": 40,
   "metadata": {},
   "outputs": [],
   "source": [
    "for categorical_feature in ['cancellation_policy', 'property_type', 'room_type', 'bed_type','city']:\n",
    "    training_data = pd.concat([training_data, pd.get_dummies(training_data[categorical_feature])], axis=1)"
   ]
  },
  {
   "cell_type": "code",
   "execution_count": 41,
   "metadata": {},
   "outputs": [],
   "source": [
    "training_data = pd.concat([training_data, pd.get_dummies(training_data['neighbourhood'])], axis=1)"
   ]
  },
  {
   "cell_type": "code",
   "execution_count": 42,
   "metadata": {},
   "outputs": [
    {
     "data": {
      "text/html": [
       "<div>\n",
       "<style scoped>\n",
       "    .dataframe tbody tr th:only-of-type {\n",
       "        vertical-align: middle;\n",
       "    }\n",
       "\n",
       "    .dataframe tbody tr th {\n",
       "        vertical-align: top;\n",
       "    }\n",
       "\n",
       "    .dataframe thead th {\n",
       "        text-align: right;\n",
       "    }\n",
       "</style>\n",
       "<table border=\"1\" class=\"dataframe\">\n",
       "  <thead>\n",
       "    <tr style=\"text-align: right;\">\n",
       "      <th></th>\n",
       "      <th>id</th>\n",
       "      <th>log_price</th>\n",
       "      <th>accommodates</th>\n",
       "      <th>bathrooms</th>\n",
       "      <th>cleaning_fee</th>\n",
       "      <th>host_has_profile_pic</th>\n",
       "      <th>host_identity_verified</th>\n",
       "      <th>host_response_rate</th>\n",
       "      <th>instant_bookable</th>\n",
       "      <th>latitude</th>\n",
       "      <th>...</th>\n",
       "      <th>Winnetka</th>\n",
       "      <th>Winthrop</th>\n",
       "      <th>Woodhaven</th>\n",
       "      <th>Woodland</th>\n",
       "      <th>Woodland Hills/Warner Center</th>\n",
       "      <th>Woodlawn</th>\n",
       "      <th>Woodley Park</th>\n",
       "      <th>Woodridge</th>\n",
       "      <th>Woodside</th>\n",
       "      <th>Wrigleyville</th>\n",
       "    </tr>\n",
       "  </thead>\n",
       "  <tbody>\n",
       "    <tr>\n",
       "      <th>0</th>\n",
       "      <td>6901257</td>\n",
       "      <td>5.010635</td>\n",
       "      <td>3</td>\n",
       "      <td>1.0</td>\n",
       "      <td>True</td>\n",
       "      <td>1</td>\n",
       "      <td>1</td>\n",
       "      <td>NaN</td>\n",
       "      <td>0</td>\n",
       "      <td>40.696524</td>\n",
       "      <td>...</td>\n",
       "      <td>0</td>\n",
       "      <td>0</td>\n",
       "      <td>0</td>\n",
       "      <td>0</td>\n",
       "      <td>0</td>\n",
       "      <td>0</td>\n",
       "      <td>0</td>\n",
       "      <td>0</td>\n",
       "      <td>0</td>\n",
       "      <td>0</td>\n",
       "    </tr>\n",
       "    <tr>\n",
       "      <th>1</th>\n",
       "      <td>6304928</td>\n",
       "      <td>5.129899</td>\n",
       "      <td>7</td>\n",
       "      <td>1.0</td>\n",
       "      <td>True</td>\n",
       "      <td>1</td>\n",
       "      <td>0</td>\n",
       "      <td>100%</td>\n",
       "      <td>1</td>\n",
       "      <td>40.766115</td>\n",
       "      <td>...</td>\n",
       "      <td>0</td>\n",
       "      <td>0</td>\n",
       "      <td>0</td>\n",
       "      <td>0</td>\n",
       "      <td>0</td>\n",
       "      <td>0</td>\n",
       "      <td>0</td>\n",
       "      <td>0</td>\n",
       "      <td>0</td>\n",
       "      <td>0</td>\n",
       "    </tr>\n",
       "    <tr>\n",
       "      <th>2</th>\n",
       "      <td>7919400</td>\n",
       "      <td>4.976734</td>\n",
       "      <td>5</td>\n",
       "      <td>1.0</td>\n",
       "      <td>True</td>\n",
       "      <td>1</td>\n",
       "      <td>1</td>\n",
       "      <td>100%</td>\n",
       "      <td>1</td>\n",
       "      <td>40.808110</td>\n",
       "      <td>...</td>\n",
       "      <td>0</td>\n",
       "      <td>0</td>\n",
       "      <td>0</td>\n",
       "      <td>0</td>\n",
       "      <td>0</td>\n",
       "      <td>0</td>\n",
       "      <td>0</td>\n",
       "      <td>0</td>\n",
       "      <td>0</td>\n",
       "      <td>0</td>\n",
       "    </tr>\n",
       "    <tr>\n",
       "      <th>3</th>\n",
       "      <td>13418779</td>\n",
       "      <td>6.620073</td>\n",
       "      <td>4</td>\n",
       "      <td>1.0</td>\n",
       "      <td>True</td>\n",
       "      <td>1</td>\n",
       "      <td>1</td>\n",
       "      <td>NaN</td>\n",
       "      <td>0</td>\n",
       "      <td>37.772004</td>\n",
       "      <td>...</td>\n",
       "      <td>0</td>\n",
       "      <td>0</td>\n",
       "      <td>0</td>\n",
       "      <td>0</td>\n",
       "      <td>0</td>\n",
       "      <td>0</td>\n",
       "      <td>0</td>\n",
       "      <td>0</td>\n",
       "      <td>0</td>\n",
       "      <td>0</td>\n",
       "    </tr>\n",
       "    <tr>\n",
       "      <th>4</th>\n",
       "      <td>3808709</td>\n",
       "      <td>4.744932</td>\n",
       "      <td>2</td>\n",
       "      <td>1.0</td>\n",
       "      <td>True</td>\n",
       "      <td>1</td>\n",
       "      <td>1</td>\n",
       "      <td>100%</td>\n",
       "      <td>1</td>\n",
       "      <td>38.925627</td>\n",
       "      <td>...</td>\n",
       "      <td>0</td>\n",
       "      <td>0</td>\n",
       "      <td>0</td>\n",
       "      <td>0</td>\n",
       "      <td>0</td>\n",
       "      <td>0</td>\n",
       "      <td>0</td>\n",
       "      <td>0</td>\n",
       "      <td>0</td>\n",
       "      <td>0</td>\n",
       "    </tr>\n",
       "  </tbody>\n",
       "</table>\n",
       "<p>5 rows × 833 columns</p>\n",
       "</div>"
      ],
      "text/plain": [
       "         id  log_price  accommodates  bathrooms  cleaning_fee  \\\n",
       "0   6901257   5.010635             3        1.0          True   \n",
       "1   6304928   5.129899             7        1.0          True   \n",
       "2   7919400   4.976734             5        1.0          True   \n",
       "3  13418779   6.620073             4        1.0          True   \n",
       "4   3808709   4.744932             2        1.0          True   \n",
       "\n",
       "   host_has_profile_pic  host_identity_verified host_response_rate  \\\n",
       "0                     1                       1                NaN   \n",
       "1                     1                       0               100%   \n",
       "2                     1                       1               100%   \n",
       "3                     1                       1                NaN   \n",
       "4                     1                       1               100%   \n",
       "\n",
       "   instant_bookable   latitude      ...       Winnetka Winthrop  Woodhaven  \\\n",
       "0                 0  40.696524      ...              0        0          0   \n",
       "1                 1  40.766115      ...              0        0          0   \n",
       "2                 1  40.808110      ...              0        0          0   \n",
       "3                 0  37.772004      ...              0        0          0   \n",
       "4                 1  38.925627      ...              0        0          0   \n",
       "\n",
       "   Woodland Woodland Hills/Warner Center  Woodlawn  Woodley Park  Woodridge  \\\n",
       "0         0                            0         0             0          0   \n",
       "1         0                            0         0             0          0   \n",
       "2         0                            0         0             0          0   \n",
       "3         0                            0         0             0          0   \n",
       "4         0                            0         0             0          0   \n",
       "\n",
       "   Woodside  Wrigleyville  \n",
       "0         0             0  \n",
       "1         0             0  \n",
       "2         0             0  \n",
       "3         0             0  \n",
       "4         0             0  \n",
       "\n",
       "[5 rows x 833 columns]"
      ]
     },
     "execution_count": 42,
     "metadata": {},
     "output_type": "execute_result"
    }
   ],
   "source": [
    "training_data.drop(['','city','cancellation_policy', 'property_type', 'room_type', 'bed_type'], axis = 1, inplace = True)\n",
    "training_data.head()"
   ]
  },
  {
   "cell_type": "code",
   "execution_count": 43,
   "metadata": {},
   "outputs": [
    {
     "data": {
      "text/plain": [
       "24309    100%\n",
       "23974     NaN\n",
       "11768     NaN\n",
       "59687     NaN\n",
       "23118    100%\n",
       "66598     NaN\n",
       "24403     NaN\n",
       "34271     70%\n",
       "70437     NaN\n",
       "36741     78%\n",
       "Name: host_response_rate, dtype: object"
      ]
     },
     "execution_count": 43,
     "metadata": {},
     "output_type": "execute_result"
    }
   ],
   "source": [
    "training_data['host_response_rate'].sample(10)"
   ]
  },
  {
   "cell_type": "code",
   "execution_count": 44,
   "metadata": {},
   "outputs": [
    {
     "data": {
      "text/html": [
       "<div>\n",
       "<style scoped>\n",
       "    .dataframe tbody tr th:only-of-type {\n",
       "        vertical-align: middle;\n",
       "    }\n",
       "\n",
       "    .dataframe tbody tr th {\n",
       "        vertical-align: top;\n",
       "    }\n",
       "\n",
       "    .dataframe thead th {\n",
       "        text-align: right;\n",
       "    }\n",
       "</style>\n",
       "<table border=\"1\" class=\"dataframe\">\n",
       "  <thead>\n",
       "    <tr style=\"text-align: right;\">\n",
       "      <th></th>\n",
       "      <th>id</th>\n",
       "      <th>log_price</th>\n",
       "      <th>accommodates</th>\n",
       "      <th>bathrooms</th>\n",
       "      <th>cleaning_fee</th>\n",
       "      <th>host_has_profile_pic</th>\n",
       "      <th>host_identity_verified</th>\n",
       "      <th>host_response_rate</th>\n",
       "      <th>instant_bookable</th>\n",
       "      <th>latitude</th>\n",
       "      <th>...</th>\n",
       "      <th>Winnetka</th>\n",
       "      <th>Winthrop</th>\n",
       "      <th>Woodhaven</th>\n",
       "      <th>Woodland</th>\n",
       "      <th>Woodland Hills/Warner Center</th>\n",
       "      <th>Woodlawn</th>\n",
       "      <th>Woodley Park</th>\n",
       "      <th>Woodridge</th>\n",
       "      <th>Woodside</th>\n",
       "      <th>Wrigleyville</th>\n",
       "    </tr>\n",
       "  </thead>\n",
       "  <tbody>\n",
       "    <tr>\n",
       "      <th>0</th>\n",
       "      <td>6901257</td>\n",
       "      <td>5.010635</td>\n",
       "      <td>3</td>\n",
       "      <td>1.0</td>\n",
       "      <td>True</td>\n",
       "      <td>1</td>\n",
       "      <td>1</td>\n",
       "      <td>NaN</td>\n",
       "      <td>0</td>\n",
       "      <td>40.696524</td>\n",
       "      <td>...</td>\n",
       "      <td>0</td>\n",
       "      <td>0</td>\n",
       "      <td>0</td>\n",
       "      <td>0</td>\n",
       "      <td>0</td>\n",
       "      <td>0</td>\n",
       "      <td>0</td>\n",
       "      <td>0</td>\n",
       "      <td>0</td>\n",
       "      <td>0</td>\n",
       "    </tr>\n",
       "    <tr>\n",
       "      <th>1</th>\n",
       "      <td>6304928</td>\n",
       "      <td>5.129899</td>\n",
       "      <td>7</td>\n",
       "      <td>1.0</td>\n",
       "      <td>True</td>\n",
       "      <td>1</td>\n",
       "      <td>0</td>\n",
       "      <td>100.0</td>\n",
       "      <td>1</td>\n",
       "      <td>40.766115</td>\n",
       "      <td>...</td>\n",
       "      <td>0</td>\n",
       "      <td>0</td>\n",
       "      <td>0</td>\n",
       "      <td>0</td>\n",
       "      <td>0</td>\n",
       "      <td>0</td>\n",
       "      <td>0</td>\n",
       "      <td>0</td>\n",
       "      <td>0</td>\n",
       "      <td>0</td>\n",
       "    </tr>\n",
       "    <tr>\n",
       "      <th>2</th>\n",
       "      <td>7919400</td>\n",
       "      <td>4.976734</td>\n",
       "      <td>5</td>\n",
       "      <td>1.0</td>\n",
       "      <td>True</td>\n",
       "      <td>1</td>\n",
       "      <td>1</td>\n",
       "      <td>100.0</td>\n",
       "      <td>1</td>\n",
       "      <td>40.808110</td>\n",
       "      <td>...</td>\n",
       "      <td>0</td>\n",
       "      <td>0</td>\n",
       "      <td>0</td>\n",
       "      <td>0</td>\n",
       "      <td>0</td>\n",
       "      <td>0</td>\n",
       "      <td>0</td>\n",
       "      <td>0</td>\n",
       "      <td>0</td>\n",
       "      <td>0</td>\n",
       "    </tr>\n",
       "    <tr>\n",
       "      <th>3</th>\n",
       "      <td>13418779</td>\n",
       "      <td>6.620073</td>\n",
       "      <td>4</td>\n",
       "      <td>1.0</td>\n",
       "      <td>True</td>\n",
       "      <td>1</td>\n",
       "      <td>1</td>\n",
       "      <td>NaN</td>\n",
       "      <td>0</td>\n",
       "      <td>37.772004</td>\n",
       "      <td>...</td>\n",
       "      <td>0</td>\n",
       "      <td>0</td>\n",
       "      <td>0</td>\n",
       "      <td>0</td>\n",
       "      <td>0</td>\n",
       "      <td>0</td>\n",
       "      <td>0</td>\n",
       "      <td>0</td>\n",
       "      <td>0</td>\n",
       "      <td>0</td>\n",
       "    </tr>\n",
       "    <tr>\n",
       "      <th>4</th>\n",
       "      <td>3808709</td>\n",
       "      <td>4.744932</td>\n",
       "      <td>2</td>\n",
       "      <td>1.0</td>\n",
       "      <td>True</td>\n",
       "      <td>1</td>\n",
       "      <td>1</td>\n",
       "      <td>100.0</td>\n",
       "      <td>1</td>\n",
       "      <td>38.925627</td>\n",
       "      <td>...</td>\n",
       "      <td>0</td>\n",
       "      <td>0</td>\n",
       "      <td>0</td>\n",
       "      <td>0</td>\n",
       "      <td>0</td>\n",
       "      <td>0</td>\n",
       "      <td>0</td>\n",
       "      <td>0</td>\n",
       "      <td>0</td>\n",
       "      <td>0</td>\n",
       "    </tr>\n",
       "  </tbody>\n",
       "</table>\n",
       "<p>5 rows × 833 columns</p>\n",
       "</div>"
      ],
      "text/plain": [
       "         id  log_price  accommodates  bathrooms  cleaning_fee  \\\n",
       "0   6901257   5.010635             3        1.0          True   \n",
       "1   6304928   5.129899             7        1.0          True   \n",
       "2   7919400   4.976734             5        1.0          True   \n",
       "3  13418779   6.620073             4        1.0          True   \n",
       "4   3808709   4.744932             2        1.0          True   \n",
       "\n",
       "   host_has_profile_pic  host_identity_verified  host_response_rate  \\\n",
       "0                     1                       1                 NaN   \n",
       "1                     1                       0               100.0   \n",
       "2                     1                       1               100.0   \n",
       "3                     1                       1                 NaN   \n",
       "4                     1                       1               100.0   \n",
       "\n",
       "   instant_bookable   latitude      ...       Winnetka Winthrop  Woodhaven  \\\n",
       "0                 0  40.696524      ...              0        0          0   \n",
       "1                 1  40.766115      ...              0        0          0   \n",
       "2                 1  40.808110      ...              0        0          0   \n",
       "3                 0  37.772004      ...              0        0          0   \n",
       "4                 1  38.925627      ...              0        0          0   \n",
       "\n",
       "   Woodland Woodland Hills/Warner Center  Woodlawn  Woodley Park  Woodridge  \\\n",
       "0         0                            0         0             0          0   \n",
       "1         0                            0         0             0          0   \n",
       "2         0                            0         0             0          0   \n",
       "3         0                            0         0             0          0   \n",
       "4         0                            0         0             0          0   \n",
       "\n",
       "   Woodside  Wrigleyville  \n",
       "0         0             0  \n",
       "1         0             0  \n",
       "2         0             0  \n",
       "3         0             0  \n",
       "4         0             0  \n",
       "\n",
       "[5 rows x 833 columns]"
      ]
     },
     "execution_count": 44,
     "metadata": {},
     "output_type": "execute_result"
    }
   ],
   "source": [
    "#Stripping % from host_response_rate\n",
    "host_response_r = []\n",
    "for i in training_data['host_response_rate']:\n",
    "    i = str(i)\n",
    "    i = i.strip('%')\n",
    "    i = float(i)\n",
    "    host_response_r.append(i)\n",
    "\n",
    "training_data['host_response_rate'] = host_response_r\n",
    "#training_data.drop(['host_response_r'], axis = 1, inplace = True)\n",
    "training_data.head()"
   ]
  },
  {
   "cell_type": "code",
   "execution_count": 45,
   "metadata": {},
   "outputs": [
    {
     "data": {
      "text/html": [
       "<div>\n",
       "<style scoped>\n",
       "    .dataframe tbody tr th:only-of-type {\n",
       "        vertical-align: middle;\n",
       "    }\n",
       "\n",
       "    .dataframe tbody tr th {\n",
       "        vertical-align: top;\n",
       "    }\n",
       "\n",
       "    .dataframe thead th {\n",
       "        text-align: right;\n",
       "    }\n",
       "</style>\n",
       "<table border=\"1\" class=\"dataframe\">\n",
       "  <thead>\n",
       "    <tr style=\"text-align: right;\">\n",
       "      <th></th>\n",
       "      <th>id</th>\n",
       "      <th>log_price</th>\n",
       "      <th>property_type</th>\n",
       "      <th>room_type</th>\n",
       "      <th>amenities</th>\n",
       "      <th>accommodates</th>\n",
       "      <th>bathrooms</th>\n",
       "      <th>bed_type</th>\n",
       "      <th>cancellation_policy</th>\n",
       "      <th>cleaning_fee</th>\n",
       "      <th>...</th>\n",
       "      <th>Wide clearance to bed</th>\n",
       "      <th>Wide clearance to shower &amp; toilet</th>\n",
       "      <th>Wide clearance to shower and toilet</th>\n",
       "      <th>Wide doorway</th>\n",
       "      <th>Wide entryway</th>\n",
       "      <th>Wide hallway clearance</th>\n",
       "      <th>Window guards</th>\n",
       "      <th>Wireless Internet</th>\n",
       "      <th>translation missing: en.hosting_amenity_49</th>\n",
       "      <th>translation missing: en.hosting_amenity_50</th>\n",
       "    </tr>\n",
       "  </thead>\n",
       "  <tbody>\n",
       "    <tr>\n",
       "      <th>0</th>\n",
       "      <td>6901257</td>\n",
       "      <td>5.010635</td>\n",
       "      <td>Apartment</td>\n",
       "      <td>Entire home/apt</td>\n",
       "      <td>Wireless Internet|Air conditioning|Kitchen|Hea...</td>\n",
       "      <td>3</td>\n",
       "      <td>1.0</td>\n",
       "      <td>Real Bed</td>\n",
       "      <td>strict</td>\n",
       "      <td>True</td>\n",
       "      <td>...</td>\n",
       "      <td>0</td>\n",
       "      <td>0</td>\n",
       "      <td>0</td>\n",
       "      <td>0</td>\n",
       "      <td>0</td>\n",
       "      <td>0</td>\n",
       "      <td>0</td>\n",
       "      <td>1</td>\n",
       "      <td>0</td>\n",
       "      <td>1</td>\n",
       "    </tr>\n",
       "    <tr>\n",
       "      <th>1</th>\n",
       "      <td>6304928</td>\n",
       "      <td>5.129899</td>\n",
       "      <td>Apartment</td>\n",
       "      <td>Entire home/apt</td>\n",
       "      <td>Wireless Internet|Air conditioning|Kitchen|Hea...</td>\n",
       "      <td>7</td>\n",
       "      <td>1.0</td>\n",
       "      <td>Real Bed</td>\n",
       "      <td>strict</td>\n",
       "      <td>True</td>\n",
       "      <td>...</td>\n",
       "      <td>0</td>\n",
       "      <td>0</td>\n",
       "      <td>0</td>\n",
       "      <td>0</td>\n",
       "      <td>0</td>\n",
       "      <td>0</td>\n",
       "      <td>0</td>\n",
       "      <td>1</td>\n",
       "      <td>0</td>\n",
       "      <td>1</td>\n",
       "    </tr>\n",
       "    <tr>\n",
       "      <th>2</th>\n",
       "      <td>7919400</td>\n",
       "      <td>4.976734</td>\n",
       "      <td>Apartment</td>\n",
       "      <td>Entire home/apt</td>\n",
       "      <td>TV|Cable TV|Wireless Internet|Air conditioning...</td>\n",
       "      <td>5</td>\n",
       "      <td>1.0</td>\n",
       "      <td>Real Bed</td>\n",
       "      <td>moderate</td>\n",
       "      <td>True</td>\n",
       "      <td>...</td>\n",
       "      <td>0</td>\n",
       "      <td>0</td>\n",
       "      <td>0</td>\n",
       "      <td>0</td>\n",
       "      <td>0</td>\n",
       "      <td>0</td>\n",
       "      <td>0</td>\n",
       "      <td>1</td>\n",
       "      <td>0</td>\n",
       "      <td>1</td>\n",
       "    </tr>\n",
       "    <tr>\n",
       "      <th>3</th>\n",
       "      <td>13418779</td>\n",
       "      <td>6.620073</td>\n",
       "      <td>House</td>\n",
       "      <td>Entire home/apt</td>\n",
       "      <td>TV|Cable TV|Internet|Wireless Internet|Kitchen...</td>\n",
       "      <td>4</td>\n",
       "      <td>1.0</td>\n",
       "      <td>Real Bed</td>\n",
       "      <td>flexible</td>\n",
       "      <td>True</td>\n",
       "      <td>...</td>\n",
       "      <td>0</td>\n",
       "      <td>0</td>\n",
       "      <td>0</td>\n",
       "      <td>0</td>\n",
       "      <td>0</td>\n",
       "      <td>0</td>\n",
       "      <td>0</td>\n",
       "      <td>1</td>\n",
       "      <td>0</td>\n",
       "      <td>0</td>\n",
       "    </tr>\n",
       "    <tr>\n",
       "      <th>4</th>\n",
       "      <td>3808709</td>\n",
       "      <td>4.744932</td>\n",
       "      <td>Apartment</td>\n",
       "      <td>Entire home/apt</td>\n",
       "      <td>TV|Internet|Wireless Internet|Air conditioning...</td>\n",
       "      <td>2</td>\n",
       "      <td>1.0</td>\n",
       "      <td>Real Bed</td>\n",
       "      <td>moderate</td>\n",
       "      <td>True</td>\n",
       "      <td>...</td>\n",
       "      <td>0</td>\n",
       "      <td>0</td>\n",
       "      <td>0</td>\n",
       "      <td>0</td>\n",
       "      <td>0</td>\n",
       "      <td>0</td>\n",
       "      <td>0</td>\n",
       "      <td>1</td>\n",
       "      <td>0</td>\n",
       "      <td>0</td>\n",
       "    </tr>\n",
       "  </tbody>\n",
       "</table>\n",
       "<p>5 rows × 174 columns</p>\n",
       "</div>"
      ],
      "text/plain": [
       "         id  log_price property_type        room_type  \\\n",
       "0   6901257   5.010635     Apartment  Entire home/apt   \n",
       "1   6304928   5.129899     Apartment  Entire home/apt   \n",
       "2   7919400   4.976734     Apartment  Entire home/apt   \n",
       "3  13418779   6.620073         House  Entire home/apt   \n",
       "4   3808709   4.744932     Apartment  Entire home/apt   \n",
       "\n",
       "                                           amenities  accommodates  bathrooms  \\\n",
       "0  Wireless Internet|Air conditioning|Kitchen|Hea...             3        1.0   \n",
       "1  Wireless Internet|Air conditioning|Kitchen|Hea...             7        1.0   \n",
       "2  TV|Cable TV|Wireless Internet|Air conditioning...             5        1.0   \n",
       "3  TV|Cable TV|Internet|Wireless Internet|Kitchen...             4        1.0   \n",
       "4  TV|Internet|Wireless Internet|Air conditioning...             2        1.0   \n",
       "\n",
       "   bed_type cancellation_policy  cleaning_fee  \\\n",
       "0  Real Bed              strict          True   \n",
       "1  Real Bed              strict          True   \n",
       "2  Real Bed            moderate          True   \n",
       "3  Real Bed            flexible          True   \n",
       "4  Real Bed            moderate          True   \n",
       "\n",
       "                      ...                     Wide clearance to bed  \\\n",
       "0                     ...                                         0   \n",
       "1                     ...                                         0   \n",
       "2                     ...                                         0   \n",
       "3                     ...                                         0   \n",
       "4                     ...                                         0   \n",
       "\n",
       "  Wide clearance to shower & toilet Wide clearance to shower and toilet  \\\n",
       "0                                 0                                   0   \n",
       "1                                 0                                   0   \n",
       "2                                 0                                   0   \n",
       "3                                 0                                   0   \n",
       "4                                 0                                   0   \n",
       "\n",
       "  Wide doorway Wide entryway Wide hallway clearance Window guards  \\\n",
       "0            0             0                      0             0   \n",
       "1            0             0                      0             0   \n",
       "2            0             0                      0             0   \n",
       "3            0             0                      0             0   \n",
       "4            0             0                      0             0   \n",
       "\n",
       "  Wireless Internet translation missing: en.hosting_amenity_49  \\\n",
       "0                 1                                          0   \n",
       "1                 1                                          0   \n",
       "2                 1                                          0   \n",
       "3                 1                                          0   \n",
       "4                 1                                          0   \n",
       "\n",
       "   translation missing: en.hosting_amenity_50  \n",
       "0                                           1  \n",
       "1                                           1  \n",
       "2                                           1  \n",
       "3                                           0  \n",
       "4                                           0  \n",
       "\n",
       "[5 rows x 174 columns]"
      ]
     },
     "execution_count": 45,
     "metadata": {},
     "output_type": "execute_result"
    }
   ],
   "source": [
    "train.head()"
   ]
  },
  {
   "cell_type": "code",
   "execution_count": 46,
   "metadata": {},
   "outputs": [],
   "source": [
    "c=[]\n",
    "index=0\n",
    "indexList=[]\n",
    "for a in amenities:\n",
    "    if ((np.sum(train[a])/train.shape[0])*100)<1:\n",
    "        indexList.append(index)\n",
    "    c.append((np.sum(train[a])/train.shape[0])*100)\n",
    "    index=index+1"
   ]
  },
  {
   "cell_type": "code",
   "execution_count": 47,
   "metadata": {},
   "outputs": [
    {
     "data": {
      "text/plain": [
       "60"
      ]
     },
     "execution_count": 47,
     "metadata": {},
     "output_type": "execute_result"
    }
   ],
   "source": [
    "len(indexList)"
   ]
  },
  {
   "cell_type": "code",
   "execution_count": 48,
   "metadata": {},
   "outputs": [],
   "source": [
    "dropAmenitiesList=[]\n",
    "for i in indexList:\n",
    "    dropAmenitiesList.append(amenities[i])"
   ]
  },
  {
   "cell_type": "code",
   "execution_count": 49,
   "metadata": {},
   "outputs": [],
   "source": [
    "training_data=training_data.drop(dropAmenitiesList,axis=1)"
   ]
  },
  {
   "cell_type": "code",
   "execution_count": 50,
   "metadata": {},
   "outputs": [],
   "source": [
    "k=train['neighbourhood'].dropna()\n",
    "neighbourhood=[]\n",
    "for i in k:\n",
    "    if i not in neighbourhood and i!='nan':\n",
    "        neighbourhood.append(i)\n"
   ]
  },
  {
   "cell_type": "code",
   "execution_count": 51,
   "metadata": {},
   "outputs": [],
   "source": [
    "index=[]\n",
    "i=0\n",
    "for n in neighbourhood:\n",
    "    if(np.sum(training_data[n]))<200:\n",
    "        index.append(i)\n",
    "    i=i+1\n",
    "        \n",
    "        "
   ]
  },
  {
   "cell_type": "code",
   "execution_count": 52,
   "metadata": {},
   "outputs": [
    {
     "data": {
      "text/plain": [
       "530"
      ]
     },
     "execution_count": 52,
     "metadata": {},
     "output_type": "execute_result"
    }
   ],
   "source": [
    "len(index)"
   ]
  },
  {
   "cell_type": "code",
   "execution_count": 53,
   "metadata": {},
   "outputs": [
    {
     "data": {
      "text/plain": [
       "619"
      ]
     },
     "execution_count": 53,
     "metadata": {},
     "output_type": "execute_result"
    }
   ],
   "source": [
    "len(neighbourhood)"
   ]
  },
  {
   "cell_type": "code",
   "execution_count": 54,
   "metadata": {},
   "outputs": [],
   "source": [
    "#Dropping neighbourhood"
   ]
  },
  {
   "cell_type": "code",
   "execution_count": 55,
   "metadata": {},
   "outputs": [],
   "source": [
    "training_data=training_data.drop(neighbourhood,axis=1)"
   ]
  },
  {
   "cell_type": "code",
   "execution_count": 56,
   "metadata": {},
   "outputs": [],
   "source": [
    "training_data=training_data.drop(['neighbourhood','zipcode','longitude','latitude'],axis=1)"
   ]
  },
  {
   "cell_type": "code",
   "execution_count": 57,
   "metadata": {},
   "outputs": [
    {
     "data": {
      "text/plain": [
       "0    Brooklyn Heights\n",
       "1      Hell's Kitchen\n",
       "2              Harlem\n",
       "3        Lower Haight\n",
       "4    Columbia Heights\n",
       "Name: neighbourhood, dtype: object"
      ]
     },
     "execution_count": 57,
     "metadata": {},
     "output_type": "execute_result"
    }
   ],
   "source": [
    "train['neighbourhood'].head()"
   ]
  },
  {
   "cell_type": "code",
   "execution_count": 256,
   "metadata": {},
   "outputs": [
    {
     "data": {
      "text/plain": [
       "id                                 0.000000\n",
       "log_price                          0.000000\n",
       "property_type                      0.000000\n",
       "room_type                          0.000000\n",
       "amenities                          0.000000\n",
       "accommodates                       0.000000\n",
       "bathrooms                          0.269865\n",
       "bed_type                           0.000000\n",
       "cancellation_policy                0.000000\n",
       "cleaning_fee                       0.000000\n",
       "city                               0.000000\n",
       "description                        0.000000\n",
       "first_review                      21.405729\n",
       "host_has_profile_pic               0.253674\n",
       "host_identity_verified             0.253674\n",
       "host_response_rate                24.691341\n",
       "host_since                         0.253674\n",
       "instant_bookable                   0.000000\n",
       "last_review                       21.355804\n",
       "latitude                           0.000000\n",
       "longitude                          0.000000\n",
       "name                               0.000000\n",
       "neighbourhood                      9.272578\n",
       "number_of_reviews                  0.000000\n",
       "review_scores_rating              22.563452\n",
       "thumbnail_url                     11.086074\n",
       "zipcode                            1.303450\n",
       "bedrooms                           0.122789\n",
       "beds                               0.176762\n",
       "r_band                             0.000000\n",
       "n_band                             0.000000\n",
       "distance_to_citycenter             0.000000\n",
       "description_neg_sentiment          0.000000\n",
       "description_neu_sentiment          0.000000\n",
       "description_pos_sentiment          0.000000\n",
       "description_compound_sentiment     0.000000\n",
       "name_neg_sentiment                 0.000000\n",
       "name_neu_sentiment                 0.000000\n",
       "name_pos_sentiment                 0.000000\n",
       "name_compound_sentiment            0.000000\n",
       "data_max_date                      0.000000\n",
       "dtype: float64"
      ]
     },
     "execution_count": 256,
     "metadata": {},
     "output_type": "execute_result"
    }
   ],
   "source": [
    "(train.isnull().sum()/train.shape[0])*100"
   ]
  },
  {
   "cell_type": "code",
   "execution_count": 58,
   "metadata": {},
   "outputs": [],
   "source": [
    "for col in training_data.columns[training_data.isnull().any()]:\n",
    "    training_data[col] = training_data[col].fillna(training_data[col].median())"
   ]
  },
  {
   "cell_type": "code",
   "execution_count": 59,
   "metadata": {},
   "outputs": [],
   "source": [
    "#Training data set \n",
    "trainingSet = training_data\n",
    "y_train = training_data['log_price']\n",
    "X_train = trainingSet\n",
    "X_train.drop(['log_price'], axis = 1, inplace = True)"
   ]
  },
  {
   "cell_type": "code",
   "execution_count": 60,
   "metadata": {},
   "outputs": [],
   "source": [
    "#Doing the same data transformation for the testing set"
   ]
  },
  {
   "cell_type": "code",
   "execution_count": 61,
   "metadata": {},
   "outputs": [],
   "source": [
    "#Adding the distance to city center column to make sense of the longitude and latitude columns\n",
    "test['distance_to_citycenter'] = test.apply(lambda row: haversine(row['longitude'], row['latitude'], 40.7638 ,73.9795) if row['city'] == 'NYC' else \n",
    "                                              haversine(row['longitude'], row['latitude'], 34.0522 ,118.2347) if row['city'] == 'LA' else\n",
    "                                              haversine(row['longitude'], row['latitude'], 41.8781 ,87.6298) if row['city'] == 'Chicago' else\n",
    "                                              haversine(row['longitude'], row['latitude'], 37.7749 ,122.4194) if row['city'] == 'SF' else\n",
    "                                              haversine(row['longitude'], row['latitude'], 42.3601 ,71.0589) if row['city'] == 'Boston' else \n",
    "                                              haversine(row['longitude'], row['latitude'], 41.2874 ,96.0985) if row['city'] == 'DC' else -1\n",
    "                                              , axis=1)   "
   ]
  },
  {
   "cell_type": "code",
   "execution_count": 62,
   "metadata": {},
   "outputs": [
    {
     "data": {
      "text/html": [
       "<div>\n",
       "<style scoped>\n",
       "    .dataframe tbody tr th:only-of-type {\n",
       "        vertical-align: middle;\n",
       "    }\n",
       "\n",
       "    .dataframe tbody tr th {\n",
       "        vertical-align: top;\n",
       "    }\n",
       "\n",
       "    .dataframe thead th {\n",
       "        text-align: right;\n",
       "    }\n",
       "</style>\n",
       "<table border=\"1\" class=\"dataframe\">\n",
       "  <thead>\n",
       "    <tr style=\"text-align: right;\">\n",
       "      <th></th>\n",
       "      <th>distance_to_citycenter</th>\n",
       "      <th>city</th>\n",
       "    </tr>\n",
       "  </thead>\n",
       "  <tbody>\n",
       "    <tr>\n",
       "      <th>12393</th>\n",
       "      <td>5513.941169</td>\n",
       "      <td>Chicago</td>\n",
       "    </tr>\n",
       "    <tr>\n",
       "      <th>5078</th>\n",
       "      <td>6375.390085</td>\n",
       "      <td>NYC</td>\n",
       "    </tr>\n",
       "    <tr>\n",
       "      <th>10591</th>\n",
       "      <td>3679.569187</td>\n",
       "      <td>LA</td>\n",
       "    </tr>\n",
       "    <tr>\n",
       "      <th>11624</th>\n",
       "      <td>2636.373344</td>\n",
       "      <td>SF</td>\n",
       "    </tr>\n",
       "    <tr>\n",
       "      <th>19158</th>\n",
       "      <td>3664.148228</td>\n",
       "      <td>LA</td>\n",
       "    </tr>\n",
       "    <tr>\n",
       "      <th>19739</th>\n",
       "      <td>3642.052144</td>\n",
       "      <td>LA</td>\n",
       "    </tr>\n",
       "    <tr>\n",
       "      <th>8454</th>\n",
       "      <td>6375.243068</td>\n",
       "      <td>NYC</td>\n",
       "    </tr>\n",
       "    <tr>\n",
       "      <th>20923</th>\n",
       "      <td>6367.215737</td>\n",
       "      <td>NYC</td>\n",
       "    </tr>\n",
       "    <tr>\n",
       "      <th>22964</th>\n",
       "      <td>6363.998413</td>\n",
       "      <td>NYC</td>\n",
       "    </tr>\n",
       "    <tr>\n",
       "      <th>12498</th>\n",
       "      <td>6375.886192</td>\n",
       "      <td>NYC</td>\n",
       "    </tr>\n",
       "  </tbody>\n",
       "</table>\n",
       "</div>"
      ],
      "text/plain": [
       "       distance_to_citycenter     city\n",
       "12393             5513.941169  Chicago\n",
       "5078              6375.390085      NYC\n",
       "10591             3679.569187       LA\n",
       "11624             2636.373344       SF\n",
       "19158             3664.148228       LA\n",
       "19739             3642.052144       LA\n",
       "8454              6375.243068      NYC\n",
       "20923             6367.215737      NYC\n",
       "22964             6363.998413      NYC\n",
       "12498             6375.886192      NYC"
      ]
     },
     "execution_count": 62,
     "metadata": {},
     "output_type": "execute_result"
    }
   ],
   "source": [
    "test[['distance_to_citycenter','city']].sample(10)"
   ]
  },
  {
   "cell_type": "code",
   "execution_count": 63,
   "metadata": {},
   "outputs": [
    {
     "name": "stdout",
     "output_type": "stream",
     "text": [
      "Santa Monica Private Bedroom/Bathroom Suite\n",
      "compound: 0.0, neg: 0.0, neu: 1.0, pos: 0.0, \n",
      "Bright, charming luxury 1 BR with amazing rooftop\n",
      "compound: 0.8885, neg: 0.0, neu: 0.276, pos: 0.724, \n"
     ]
    }
   ],
   "source": [
    "import nltk\n",
    "from nltk.sentiment.vader import SentimentIntensityAnalyzer\n",
    "sia = SentimentIntensityAnalyzer()\n",
    "for s in test['name'].values[:2]:\n",
    "    print(s)\n",
    "    ss = sia.polarity_scores(s)\n",
    "    for k in sorted(ss):\n",
    "        print('{0}: {1}, '.format(k, ss[k]), end='')\n",
    "    print()"
   ]
  },
  {
   "cell_type": "code",
   "execution_count": 64,
   "metadata": {},
   "outputs": [
    {
     "data": {
      "text/plain": [
       "0    Close to SM beaches, 3rd Street Promenade, SM ...\n",
       "1    This apartment will give you a true (luxury) B...\n",
       "2    Spacious 1 bedroom apartment apartment with se...\n",
       "3    Very clean 1 Bedroom Jr. 3/4 Bath unit located...\n",
       "4    My apartment is airy & light, brand new renova...\n",
       "Name: description, dtype: object"
      ]
     },
     "execution_count": 64,
     "metadata": {},
     "output_type": "execute_result"
    }
   ],
   "source": [
    "test['description'].head()"
   ]
  },
  {
   "cell_type": "code",
   "execution_count": 65,
   "metadata": {},
   "outputs": [
    {
     "data": {
      "text/plain": [
       "'Bright, charming luxury 1 BR with amazing rooftop'"
      ]
     },
     "execution_count": 65,
     "metadata": {},
     "output_type": "execute_result"
    }
   ],
   "source": [
    "test['name'][1]"
   ]
  },
  {
   "cell_type": "code",
   "execution_count": 66,
   "metadata": {},
   "outputs": [
    {
     "name": "stdout",
     "output_type": "stream",
     "text": [
      "nan\n"
     ]
    }
   ],
   "source": [
    "print(test['description'][9445])"
   ]
  },
  {
   "cell_type": "code",
   "execution_count": 69,
   "metadata": {},
   "outputs": [],
   "source": [
    "test['description']=test['description'].fillna(\"room\", inplace=True)\n",
    "test['name'].fillna(\"room\", inplace=True)"
   ]
  },
  {
   "cell_type": "code",
   "execution_count": 1,
   "metadata": {},
   "outputs": [],
   "source": [
    "def transform(row):\n",
    "    '''\n",
    "    Handling missing values in description as room\n",
    "    Room seems to be a very common word used in most listing descriptions\n",
    "    '''\n",
    "    if row['description']==None:\n",
    "        return \"room\"\n",
    "    else:\n",
    "        return row['description']"
   ]
  },
  {
   "cell_type": "code",
   "execution_count": 71,
   "metadata": {},
   "outputs": [],
   "source": [
    "test['description']=test.apply(lambda row: transform(row), axis=1)\n",
    "test['name']=test.apply(lambda row: transform(row), axis=1)"
   ]
  },
  {
   "cell_type": "code",
   "execution_count": 72,
   "metadata": {},
   "outputs": [],
   "source": [
    "description_list = [d for d in test['description']]\n",
    "polarity_scores_description = [sia.polarity_scores(description) for description in description_list]\n",
    "name_list = [n for n in test['name']]\n",
    "polarity_scores_name = [sia.polarity_scores(name) for name in name_list]"
   ]
  },
  {
   "cell_type": "code",
   "execution_count": null,
   "metadata": {},
   "outputs": [],
   "source": [
    "addSentimentScores('description', test,varList,polarity_scores_description)\n",
    "addSentimentScores('name', test,varList,polarity_scores_name)"
   ]
  },
  {
   "cell_type": "code",
   "execution_count": 75,
   "metadata": {},
   "outputs": [],
   "source": [
    "test['data_max_date']=test.apply(lambda row: data_max_date(row), axis=1)"
   ]
  },
  {
   "cell_type": "code",
   "execution_count": 76,
   "metadata": {},
   "outputs": [],
   "source": [
    "#Converting first_review, host since and last review to datetime\n",
    "test['first_review'] = pd.to_datetime(test['first_review'])\n",
    "test['host_since'] = pd.to_datetime(test['host_since'])\n",
    "test['last_review'] = pd.to_datetime(test['last_review'])\n",
    "test['first_review'] = test['first_review'].apply(lambda x: x.date())\n",
    "test['host_since'] = test['host_since'].apply(lambda x: x.date())\n",
    "test['last_review'] = test['last_review'].apply(lambda x: x.date())"
   ]
  },
  {
   "cell_type": "code",
   "execution_count": 77,
   "metadata": {},
   "outputs": [],
   "source": [
    "test['DateDiffFirstReview'] = (test.data_max_date - test.first_review)/ np.timedelta64(1, 'D')\n",
    "test['DateDiffHostSince'] = (test.data_max_date - test.host_since)/ np.timedelta64(1, 'D')\n",
    "test['DateDiffLastReview'] = (test.data_max_date - test.last_review)/ np.timedelta64(1, 'D')\n",
    "test['DateDiffFirstReview'].fillna(0, inplace=True)\n",
    "test['DateDiffHostSince'].fillna(0, inplace=True)\n",
    "test['DateDiffLastReview'].fillna(0, inplace=True)"
   ]
  },
  {
   "cell_type": "code",
   "execution_count": 78,
   "metadata": {},
   "outputs": [],
   "source": [
    "'''Let's classify listings that have photos versus listings that do not have photos\n",
    "We can do this by using the thumbnail variable'''\n",
    "test['thumbnail_url'].fillna(0, inplace=True)\n",
    "def photo(row):\n",
    "    if (row['thumbnail_url']==0):\n",
    "        return 0\n",
    "    else:\n",
    "        return 1\n",
    "test['photo']=train.apply(lambda row: photo(row), axis=1)"
   ]
  },
  {
   "cell_type": "code",
   "execution_count": 79,
   "metadata": {},
   "outputs": [],
   "source": [
    "test['amenities'] = test['amenities'].map(\n",
    "    lambda amenities: \"|\".join([amn.replace(\"}\", \"\").replace(\"{\", \"\").replace('\"', \"\")\\\n",
    "                           for amn in amenities.split(\",\")]))\n"
   ]
  },
  {
   "cell_type": "code",
   "execution_count": 80,
   "metadata": {},
   "outputs": [],
   "source": [
    "amenity_arr = np.array([train['amenities'].map(lambda amns: amn in amns) for amn in amenities])"
   ]
  },
  {
   "cell_type": "code",
   "execution_count": 81,
   "metadata": {},
   "outputs": [],
   "source": [
    "temp=pd.DataFrame(amenity_arr)\n",
    "temp=temp.T"
   ]
  },
  {
   "cell_type": "code",
   "execution_count": 82,
   "metadata": {},
   "outputs": [],
   "source": [
    "test[amenities]=temp"
   ]
  },
  {
   "cell_type": "code",
   "execution_count": 83,
   "metadata": {},
   "outputs": [],
   "source": [
    "for a in amenities:\n",
    "    test[a] = test[a].astype(int)"
   ]
  },
  {
   "cell_type": "code",
   "execution_count": 84,
   "metadata": {},
   "outputs": [],
   "source": [
    "test_data=test"
   ]
  },
  {
   "cell_type": "code",
   "execution_count": 85,
   "metadata": {},
   "outputs": [],
   "source": [
    "#Dropped data_max_date columncolumns that have been transformed\n",
    "test_data=test_data.drop(['name', 'description', 'data_max_date', 'first_review', 'host_since', 'last_review', 'thumbnail_url', 'amenities'],axis=1)"
   ]
  },
  {
   "cell_type": "code",
   "execution_count": 86,
   "metadata": {},
   "outputs": [],
   "source": [
    "for tf_feature in ['host_identity_verified', 'host_has_profile_pic', 'instant_bookable']:\n",
    "    test_data[tf_feature] = test_data[tf_feature].map(lambda s: 0 if s == \"f\" else 1)"
   ]
  },
  {
   "cell_type": "code",
   "execution_count": 87,
   "metadata": {},
   "outputs": [],
   "source": [
    "for categorical_feature in ['cancellation_policy', 'property_type', 'room_type', 'bed_type','city']:\n",
    "    test_data = pd.concat([test_data, pd.get_dummies(test_data[categorical_feature])], axis=1)"
   ]
  },
  {
   "cell_type": "code",
   "execution_count": 88,
   "metadata": {},
   "outputs": [],
   "source": [
    "test_data = pd.concat([test_data, pd.get_dummies(test_data['neighbourhood'])], axis=1)"
   ]
  },
  {
   "cell_type": "code",
   "execution_count": 89,
   "metadata": {},
   "outputs": [
    {
     "data": {
      "text/html": [
       "<div>\n",
       "<style scoped>\n",
       "    .dataframe tbody tr th:only-of-type {\n",
       "        vertical-align: middle;\n",
       "    }\n",
       "\n",
       "    .dataframe tbody tr th {\n",
       "        vertical-align: top;\n",
       "    }\n",
       "\n",
       "    .dataframe thead th {\n",
       "        text-align: right;\n",
       "    }\n",
       "</style>\n",
       "<table border=\"1\" class=\"dataframe\">\n",
       "  <thead>\n",
       "    <tr style=\"text-align: right;\">\n",
       "      <th></th>\n",
       "      <th>id</th>\n",
       "      <th>accommodates</th>\n",
       "      <th>bathrooms</th>\n",
       "      <th>cleaning_fee</th>\n",
       "      <th>host_has_profile_pic</th>\n",
       "      <th>host_identity_verified</th>\n",
       "      <th>host_response_rate</th>\n",
       "      <th>instant_bookable</th>\n",
       "      <th>latitude</th>\n",
       "      <th>longitude</th>\n",
       "      <th>...</th>\n",
       "      <th>Wilmington</th>\n",
       "      <th>Windsor Terrace</th>\n",
       "      <th>Winnetka</th>\n",
       "      <th>Woodhaven</th>\n",
       "      <th>Woodland Hills/Warner Center</th>\n",
       "      <th>Woodlawn</th>\n",
       "      <th>Woodley Park</th>\n",
       "      <th>Woodridge</th>\n",
       "      <th>Woodside</th>\n",
       "      <th>Wrigleyville</th>\n",
       "    </tr>\n",
       "  </thead>\n",
       "  <tbody>\n",
       "    <tr>\n",
       "      <th>0</th>\n",
       "      <td>3895911</td>\n",
       "      <td>2</td>\n",
       "      <td>1.0</td>\n",
       "      <td>True</td>\n",
       "      <td>1</td>\n",
       "      <td>0</td>\n",
       "      <td>100%</td>\n",
       "      <td>0</td>\n",
       "      <td>34.028372</td>\n",
       "      <td>-118.494449</td>\n",
       "      <td>...</td>\n",
       "      <td>0</td>\n",
       "      <td>0</td>\n",
       "      <td>0</td>\n",
       "      <td>0</td>\n",
       "      <td>0</td>\n",
       "      <td>0</td>\n",
       "      <td>0</td>\n",
       "      <td>0</td>\n",
       "      <td>0</td>\n",
       "      <td>0</td>\n",
       "    </tr>\n",
       "    <tr>\n",
       "      <th>1</th>\n",
       "      <td>9710289</td>\n",
       "      <td>3</td>\n",
       "      <td>1.0</td>\n",
       "      <td>True</td>\n",
       "      <td>1</td>\n",
       "      <td>1</td>\n",
       "      <td>100%</td>\n",
       "      <td>0</td>\n",
       "      <td>40.720380</td>\n",
       "      <td>-73.942329</td>\n",
       "      <td>...</td>\n",
       "      <td>0</td>\n",
       "      <td>0</td>\n",
       "      <td>0</td>\n",
       "      <td>0</td>\n",
       "      <td>0</td>\n",
       "      <td>0</td>\n",
       "      <td>0</td>\n",
       "      <td>0</td>\n",
       "      <td>0</td>\n",
       "      <td>0</td>\n",
       "    </tr>\n",
       "    <tr>\n",
       "      <th>2</th>\n",
       "      <td>9051635</td>\n",
       "      <td>1</td>\n",
       "      <td>1.0</td>\n",
       "      <td>True</td>\n",
       "      <td>1</td>\n",
       "      <td>1</td>\n",
       "      <td>100%</td>\n",
       "      <td>0</td>\n",
       "      <td>37.785434</td>\n",
       "      <td>-122.470284</td>\n",
       "      <td>...</td>\n",
       "      <td>0</td>\n",
       "      <td>0</td>\n",
       "      <td>0</td>\n",
       "      <td>0</td>\n",
       "      <td>0</td>\n",
       "      <td>0</td>\n",
       "      <td>0</td>\n",
       "      <td>0</td>\n",
       "      <td>0</td>\n",
       "      <td>0</td>\n",
       "    </tr>\n",
       "    <tr>\n",
       "      <th>3</th>\n",
       "      <td>708374</td>\n",
       "      <td>1</td>\n",
       "      <td>1.0</td>\n",
       "      <td>True</td>\n",
       "      <td>1</td>\n",
       "      <td>1</td>\n",
       "      <td>100%</td>\n",
       "      <td>0</td>\n",
       "      <td>33.976026</td>\n",
       "      <td>-118.463471</td>\n",
       "      <td>...</td>\n",
       "      <td>0</td>\n",
       "      <td>0</td>\n",
       "      <td>0</td>\n",
       "      <td>0</td>\n",
       "      <td>0</td>\n",
       "      <td>0</td>\n",
       "      <td>0</td>\n",
       "      <td>0</td>\n",
       "      <td>0</td>\n",
       "      <td>0</td>\n",
       "    </tr>\n",
       "    <tr>\n",
       "      <th>4</th>\n",
       "      <td>626296</td>\n",
       "      <td>2</td>\n",
       "      <td>1.0</td>\n",
       "      <td>True</td>\n",
       "      <td>1</td>\n",
       "      <td>1</td>\n",
       "      <td>NaN</td>\n",
       "      <td>0</td>\n",
       "      <td>40.735573</td>\n",
       "      <td>-74.005996</td>\n",
       "      <td>...</td>\n",
       "      <td>0</td>\n",
       "      <td>0</td>\n",
       "      <td>0</td>\n",
       "      <td>0</td>\n",
       "      <td>0</td>\n",
       "      <td>0</td>\n",
       "      <td>0</td>\n",
       "      <td>0</td>\n",
       "      <td>0</td>\n",
       "      <td>0</td>\n",
       "    </tr>\n",
       "  </tbody>\n",
       "</table>\n",
       "<p>5 rows × 757 columns</p>\n",
       "</div>"
      ],
      "text/plain": [
       "        id  accommodates  bathrooms  cleaning_fee  host_has_profile_pic  \\\n",
       "0  3895911             2        1.0          True                     1   \n",
       "1  9710289             3        1.0          True                     1   \n",
       "2  9051635             1        1.0          True                     1   \n",
       "3   708374             1        1.0          True                     1   \n",
       "4   626296             2        1.0          True                     1   \n",
       "\n",
       "   host_identity_verified host_response_rate  instant_bookable   latitude  \\\n",
       "0                       0               100%                 0  34.028372   \n",
       "1                       1               100%                 0  40.720380   \n",
       "2                       1               100%                 0  37.785434   \n",
       "3                       1               100%                 0  33.976026   \n",
       "4                       1                NaN                 0  40.735573   \n",
       "\n",
       "    longitude      ...      Wilmington  Windsor Terrace  Winnetka Woodhaven  \\\n",
       "0 -118.494449      ...               0                0         0         0   \n",
       "1  -73.942329      ...               0                0         0         0   \n",
       "2 -122.470284      ...               0                0         0         0   \n",
       "3 -118.463471      ...               0                0         0         0   \n",
       "4  -74.005996      ...               0                0         0         0   \n",
       "\n",
       "   Woodland Hills/Warner Center  Woodlawn  Woodley Park  Woodridge  Woodside  \\\n",
       "0                             0         0             0          0         0   \n",
       "1                             0         0             0          0         0   \n",
       "2                             0         0             0          0         0   \n",
       "3                             0         0             0          0         0   \n",
       "4                             0         0             0          0         0   \n",
       "\n",
       "   Wrigleyville  \n",
       "0             0  \n",
       "1             0  \n",
       "2             0  \n",
       "3             0  \n",
       "4             0  \n",
       "\n",
       "[5 rows x 757 columns]"
      ]
     },
     "execution_count": 89,
     "metadata": {},
     "output_type": "execute_result"
    }
   ],
   "source": [
    "test_data.drop(['','city','cancellation_policy', 'property_type', 'room_type', 'bed_type'], axis = 1, inplace = True)\n",
    "test_data.head()"
   ]
  },
  {
   "cell_type": "code",
   "execution_count": 90,
   "metadata": {},
   "outputs": [
    {
     "data": {
      "text/html": [
       "<div>\n",
       "<style scoped>\n",
       "    .dataframe tbody tr th:only-of-type {\n",
       "        vertical-align: middle;\n",
       "    }\n",
       "\n",
       "    .dataframe tbody tr th {\n",
       "        vertical-align: top;\n",
       "    }\n",
       "\n",
       "    .dataframe thead th {\n",
       "        text-align: right;\n",
       "    }\n",
       "</style>\n",
       "<table border=\"1\" class=\"dataframe\">\n",
       "  <thead>\n",
       "    <tr style=\"text-align: right;\">\n",
       "      <th></th>\n",
       "      <th>id</th>\n",
       "      <th>accommodates</th>\n",
       "      <th>bathrooms</th>\n",
       "      <th>cleaning_fee</th>\n",
       "      <th>host_has_profile_pic</th>\n",
       "      <th>host_identity_verified</th>\n",
       "      <th>host_response_rate</th>\n",
       "      <th>instant_bookable</th>\n",
       "      <th>latitude</th>\n",
       "      <th>longitude</th>\n",
       "      <th>...</th>\n",
       "      <th>Wilmington</th>\n",
       "      <th>Windsor Terrace</th>\n",
       "      <th>Winnetka</th>\n",
       "      <th>Woodhaven</th>\n",
       "      <th>Woodland Hills/Warner Center</th>\n",
       "      <th>Woodlawn</th>\n",
       "      <th>Woodley Park</th>\n",
       "      <th>Woodridge</th>\n",
       "      <th>Woodside</th>\n",
       "      <th>Wrigleyville</th>\n",
       "    </tr>\n",
       "  </thead>\n",
       "  <tbody>\n",
       "    <tr>\n",
       "      <th>0</th>\n",
       "      <td>3895911</td>\n",
       "      <td>2</td>\n",
       "      <td>1.0</td>\n",
       "      <td>True</td>\n",
       "      <td>1</td>\n",
       "      <td>0</td>\n",
       "      <td>100.0</td>\n",
       "      <td>0</td>\n",
       "      <td>34.028372</td>\n",
       "      <td>-118.494449</td>\n",
       "      <td>...</td>\n",
       "      <td>0</td>\n",
       "      <td>0</td>\n",
       "      <td>0</td>\n",
       "      <td>0</td>\n",
       "      <td>0</td>\n",
       "      <td>0</td>\n",
       "      <td>0</td>\n",
       "      <td>0</td>\n",
       "      <td>0</td>\n",
       "      <td>0</td>\n",
       "    </tr>\n",
       "    <tr>\n",
       "      <th>1</th>\n",
       "      <td>9710289</td>\n",
       "      <td>3</td>\n",
       "      <td>1.0</td>\n",
       "      <td>True</td>\n",
       "      <td>1</td>\n",
       "      <td>1</td>\n",
       "      <td>100.0</td>\n",
       "      <td>0</td>\n",
       "      <td>40.720380</td>\n",
       "      <td>-73.942329</td>\n",
       "      <td>...</td>\n",
       "      <td>0</td>\n",
       "      <td>0</td>\n",
       "      <td>0</td>\n",
       "      <td>0</td>\n",
       "      <td>0</td>\n",
       "      <td>0</td>\n",
       "      <td>0</td>\n",
       "      <td>0</td>\n",
       "      <td>0</td>\n",
       "      <td>0</td>\n",
       "    </tr>\n",
       "    <tr>\n",
       "      <th>2</th>\n",
       "      <td>9051635</td>\n",
       "      <td>1</td>\n",
       "      <td>1.0</td>\n",
       "      <td>True</td>\n",
       "      <td>1</td>\n",
       "      <td>1</td>\n",
       "      <td>100.0</td>\n",
       "      <td>0</td>\n",
       "      <td>37.785434</td>\n",
       "      <td>-122.470284</td>\n",
       "      <td>...</td>\n",
       "      <td>0</td>\n",
       "      <td>0</td>\n",
       "      <td>0</td>\n",
       "      <td>0</td>\n",
       "      <td>0</td>\n",
       "      <td>0</td>\n",
       "      <td>0</td>\n",
       "      <td>0</td>\n",
       "      <td>0</td>\n",
       "      <td>0</td>\n",
       "    </tr>\n",
       "    <tr>\n",
       "      <th>3</th>\n",
       "      <td>708374</td>\n",
       "      <td>1</td>\n",
       "      <td>1.0</td>\n",
       "      <td>True</td>\n",
       "      <td>1</td>\n",
       "      <td>1</td>\n",
       "      <td>100.0</td>\n",
       "      <td>0</td>\n",
       "      <td>33.976026</td>\n",
       "      <td>-118.463471</td>\n",
       "      <td>...</td>\n",
       "      <td>0</td>\n",
       "      <td>0</td>\n",
       "      <td>0</td>\n",
       "      <td>0</td>\n",
       "      <td>0</td>\n",
       "      <td>0</td>\n",
       "      <td>0</td>\n",
       "      <td>0</td>\n",
       "      <td>0</td>\n",
       "      <td>0</td>\n",
       "    </tr>\n",
       "    <tr>\n",
       "      <th>4</th>\n",
       "      <td>626296</td>\n",
       "      <td>2</td>\n",
       "      <td>1.0</td>\n",
       "      <td>True</td>\n",
       "      <td>1</td>\n",
       "      <td>1</td>\n",
       "      <td>NaN</td>\n",
       "      <td>0</td>\n",
       "      <td>40.735573</td>\n",
       "      <td>-74.005996</td>\n",
       "      <td>...</td>\n",
       "      <td>0</td>\n",
       "      <td>0</td>\n",
       "      <td>0</td>\n",
       "      <td>0</td>\n",
       "      <td>0</td>\n",
       "      <td>0</td>\n",
       "      <td>0</td>\n",
       "      <td>0</td>\n",
       "      <td>0</td>\n",
       "      <td>0</td>\n",
       "    </tr>\n",
       "  </tbody>\n",
       "</table>\n",
       "<p>5 rows × 757 columns</p>\n",
       "</div>"
      ],
      "text/plain": [
       "        id  accommodates  bathrooms  cleaning_fee  host_has_profile_pic  \\\n",
       "0  3895911             2        1.0          True                     1   \n",
       "1  9710289             3        1.0          True                     1   \n",
       "2  9051635             1        1.0          True                     1   \n",
       "3   708374             1        1.0          True                     1   \n",
       "4   626296             2        1.0          True                     1   \n",
       "\n",
       "   host_identity_verified  host_response_rate  instant_bookable   latitude  \\\n",
       "0                       0               100.0                 0  34.028372   \n",
       "1                       1               100.0                 0  40.720380   \n",
       "2                       1               100.0                 0  37.785434   \n",
       "3                       1               100.0                 0  33.976026   \n",
       "4                       1                 NaN                 0  40.735573   \n",
       "\n",
       "    longitude      ...      Wilmington  Windsor Terrace  Winnetka Woodhaven  \\\n",
       "0 -118.494449      ...               0                0         0         0   \n",
       "1  -73.942329      ...               0                0         0         0   \n",
       "2 -122.470284      ...               0                0         0         0   \n",
       "3 -118.463471      ...               0                0         0         0   \n",
       "4  -74.005996      ...               0                0         0         0   \n",
       "\n",
       "   Woodland Hills/Warner Center  Woodlawn  Woodley Park  Woodridge  Woodside  \\\n",
       "0                             0         0             0          0         0   \n",
       "1                             0         0             0          0         0   \n",
       "2                             0         0             0          0         0   \n",
       "3                             0         0             0          0         0   \n",
       "4                             0         0             0          0         0   \n",
       "\n",
       "   Wrigleyville  \n",
       "0             0  \n",
       "1             0  \n",
       "2             0  \n",
       "3             0  \n",
       "4             0  \n",
       "\n",
       "[5 rows x 757 columns]"
      ]
     },
     "execution_count": 90,
     "metadata": {},
     "output_type": "execute_result"
    }
   ],
   "source": [
    "#Stripping % from host_response_rate\n",
    "host_response_r = []\n",
    "for i in test_data['host_response_rate']:\n",
    "    i = str(i)\n",
    "    i = i.strip('%')\n",
    "    i = float(i)\n",
    "    host_response_r.append(i)\n",
    "\n",
    "test_data['host_response_rate'] = host_response_r\n",
    "#training_data.drop(['host_response_r'], axis = 1, inplace = True)\n",
    "test_data.head()"
   ]
  },
  {
   "cell_type": "code",
   "execution_count": 91,
   "metadata": {},
   "outputs": [],
   "source": [
    "test_data=test_data.drop(dropAmenitiesList,axis=1)"
   ]
  },
  {
   "cell_type": "code",
   "execution_count": 92,
   "metadata": {},
   "outputs": [],
   "source": [
    "test_data=test_data.drop(['neighbourhood','zipcode','longitude','latitude'],axis=1)"
   ]
  },
  {
   "cell_type": "code",
   "execution_count": 93,
   "metadata": {},
   "outputs": [],
   "source": [
    "for col in test_data.columns[test_data.isnull().any()]:\n",
    "    test_data[col] = test_data[col].fillna(test_data[col].median())"
   ]
  },
  {
   "cell_type": "code",
   "execution_count": 94,
   "metadata": {},
   "outputs": [],
   "source": [
    "#Training data set \n",
    "testSet = test_data\n",
    "X_test = testSet\n",
    "\n"
   ]
  },
  {
   "cell_type": "code",
   "execution_count": 95,
   "metadata": {},
   "outputs": [
    {
     "name": "stderr",
     "output_type": "stream",
     "text": [
      "c:\\Users\\Pooja\\Anaconda3\\lib\\site-packages\\sklearn\\preprocessing\\data.py:617: DataConversionWarning: Data with input dtype bool, uint8, int32, int64, float64 were all converted to float64 by StandardScaler.\n",
      "  return self.partial_fit(X, y)\n",
      "c:\\Users\\Pooja\\Anaconda3\\lib\\site-packages\\sklearn\\base.py:462: DataConversionWarning: Data with input dtype bool, uint8, int32, int64, float64 were all converted to float64 by StandardScaler.\n",
      "  return self.fit(X, **fit_params).transform(X)\n"
     ]
    }
   ],
   "source": [
    "from sklearn.preprocessing import StandardScaler\n",
    "sc= StandardScaler()\n",
    "Xtest = sc.fit_transform(X_test)"
   ]
  },
  {
   "cell_type": "code",
   "execution_count": 96,
   "metadata": {},
   "outputs": [
    {
     "data": {
      "text/plain": [
       "array([[-1.21063401, -0.54357798, -0.40327751, ..., -0.01401572,\n",
       "        -0.03656937, -0.02659976],\n",
       "       [-0.25627279, -0.07100317, -0.40327751, ..., -0.01401572,\n",
       "        -0.03656937, -0.02659976],\n",
       "       [-0.36438304, -1.01615278, -0.40327751, ..., -0.01401572,\n",
       "        -0.03656937, -0.02659976],\n",
       "       ...,\n",
       "       [ 0.43133374, -0.54357798, -0.40327751, ..., -0.01401572,\n",
       "        -0.03656937, -0.02659976],\n",
       "       [-0.21872783,  0.40157164, -0.40327751, ..., -0.01401572,\n",
       "        -0.03656937, -0.02659976],\n",
       "       [ 0.28148005, -0.54357798, -0.40327751, ..., -0.01401572,\n",
       "        -0.03656937, -0.02659976]])"
      ]
     },
     "execution_count": 96,
     "metadata": {},
     "output_type": "execute_result"
    }
   ],
   "source": [
    "Xtest"
   ]
  },
  {
   "cell_type": "code",
   "execution_count": 97,
   "metadata": {},
   "outputs": [],
   "source": [
    "Xtrain=X_train\n",
    "ytrain=y_train\n",
    "Xtest=X_test"
   ]
  },
  {
   "cell_type": "code",
   "execution_count": null,
   "metadata": {},
   "outputs": [],
   "source": [
    "#We are splitting this to just evaluate the model performance"
   ]
  },
  {
   "cell_type": "code",
   "execution_count": 98,
   "metadata": {},
   "outputs": [
    {
     "name": "stderr",
     "output_type": "stream",
     "text": [
      "c:\\Users\\Pooja\\Anaconda3\\lib\\site-packages\\sklearn\\preprocessing\\data.py:617: DataConversionWarning: Data with input dtype bool, uint8, int32, int64, float64 were all converted to float64 by StandardScaler.\n",
      "  return self.partial_fit(X, y)\n",
      "c:\\Users\\Pooja\\Anaconda3\\lib\\site-packages\\sklearn\\base.py:462: DataConversionWarning: Data with input dtype bool, uint8, int32, int64, float64 were all converted to float64 by StandardScaler.\n",
      "  return self.fit(X, **fit_params).transform(X)\n",
      "c:\\Users\\Pooja\\Anaconda3\\lib\\site-packages\\ipykernel\\__main__.py:9: DataConversionWarning: Data with input dtype bool, uint8, int32, int64, float64 were all converted to float64 by StandardScaler.\n"
     ]
    }
   ],
   "source": [
    "from sklearn.model_selection import train_test_split\n",
    "\n",
    "X_train, X_test, y_train, y_test = train_test_split(X_train, y_train, test_size = 0.001, random_state = 891990)\n",
    "#y_train = y_train.values.reshape(-1, 1)\n",
    "#y_test = y_test.values.reshape(-1, 1)\n",
    "# Feature Scaling\n",
    "sc_X = StandardScaler()\n",
    "X_train = sc_X.fit_transform(X_train)\n",
    "X_test = sc_X.transform(X_test)"
   ]
  },
  {
   "cell_type": "code",
   "execution_count": 99,
   "metadata": {},
   "outputs": [],
   "source": [
    "from sklearn.linear_model import ElasticNet, Lasso,  BayesianRidge, LassoLarsIC\n",
    "from sklearn.ensemble import RandomForestRegressor,  GradientBoostingRegressor\n",
    "from sklearn.kernel_ridge import KernelRidge\n",
    "from sklearn.pipeline import make_pipeline\n",
    "from sklearn.preprocessing import RobustScaler\n",
    "from sklearn.base import BaseEstimator, TransformerMixin, RegressorMixin, clone\n",
    "from sklearn.model_selection import KFold, cross_val_score, train_test_split\n",
    "from sklearn.metrics import mean_squared_error\n",
    "#import xgboost as xgb\n",
    "#import lightgbm as lgb"
   ]
  },
  {
   "cell_type": "code",
   "execution_count": 116,
   "metadata": {},
   "outputs": [
    {
     "name": "stdout",
     "output_type": "stream",
     "text": [
      "      Iter       Train Loss   Remaining Time \n",
      "         1           0.5092           35.01m\n",
      "         2           0.5038           39.13m\n",
      "         3           0.4985           37.57m\n",
      "         4           0.4934           36.75m\n",
      "         5           0.4883           36.77m\n",
      "         6           0.4834           36.35m\n",
      "         7           0.4785           36.06m\n",
      "         8           0.4737           35.87m\n",
      "         9           0.4691           35.72m\n",
      "        10           0.4645           35.55m\n",
      "        20           0.4234           34.55m\n",
      "        30           0.3895           34.01m\n",
      "        40           0.3615           33.74m\n",
      "        50           0.3382           33.50m\n",
      "        60           0.3188           33.33m\n",
      "        70           0.3027           33.17m\n",
      "        80           0.2891           33.55m\n",
      "        90           0.2776           33.33m\n",
      "       100           0.2679           33.39m\n",
      "       200           0.2193           32.13m\n",
      "       300           0.2002           30.54m\n",
      "       400           0.1902           28.33m\n",
      "       500           0.1840           26.39m\n",
      "       600           0.1795           25.07m\n",
      "       700           0.1759           23.65m\n",
      "       800           0.1732           22.15m\n",
      "       900           0.1707           20.98m\n",
      "      1000           0.1686           19.74m\n",
      "      2000           0.1573            9.14m\n",
      "      3000           0.1518            0.00s\n"
     ]
    }
   ],
   "source": [
    "gbr = GradientBoostingRegressor(max_leaf_nodes=200, learning_rate=0.01, n_estimators=3000, verbose=1)\n",
    "#gbm = lgb.LGBMRegressor(num_leaves=190, learning_rate=0.0109, n_estimators=4000, verbose=1, max_depth=-1)\n",
    "gbr.fit(X_train, y_train)\n",
    "y_pred = gbr.predict(X_test)"
   ]
  },
  {
   "cell_type": "code",
   "execution_count": 108,
   "metadata": {},
   "outputs": [],
   "source": [
    "x_pred = gbr.predict(X_train)"
   ]
  },
  {
   "cell_type": "code",
   "execution_count": 105,
   "metadata": {},
   "outputs": [
    {
     "data": {
      "image/png": "[encoded data removed]",
      "text/plain": [
       "<Figure size 720x432 with 1 Axes>"
      ]
     },
     "metadata": {},
     "output_type": "display_data"
    }
   ],
   "source": [
    "top = 35\n",
    "feature_importance = gbr.feature_importances_\n",
    "# make importances relative to max importance\n",
    "feature_importance = 100.0 * (feature_importance / feature_importance.max())\n",
    "sorted_idx = np.argsort(feature_importance)\n",
    "pos = np.arange(sorted_idx.shape[0]) + .5\n",
    "plt.figure(figsize = (10,6))\n",
    "plt.barh(pos[-top:], feature_importance[sorted_idx][-top:], align='center')\n",
    "plt.yticks(pos[-top:], Xtrain.columns[sorted_idx][-top:])\n",
    "plt.xlabel('Relative Importance')\n",
    "plt.title('Variable Importance')\n",
    "plt.show()"
   ]
  },
  {
   "cell_type": "code",
   "execution_count": 114,
   "metadata": {},
   "outputs": [],
   "source": [
    "test_score=r2_score(y_test,y_pred)\n",
    "train_score=r2_score(y_train,x_pred)"
   ]
  },
  {
   "cell_type": "code",
   "execution_count": 115,
   "metadata": {},
   "outputs": [
    {
     "name": "stdout",
     "output_type": "stream",
     "text": [
      "0.7260351862224163\n",
      "0.7024427336250543\n"
     ]
    }
   ],
   "source": [
    "print(test_score)\n",
    "print(train_score)"
   ]
  },
  {
   "cell_type": "code",
   "execution_count": 121,
   "metadata": {},
   "outputs": [
    {
     "name": "stdout",
     "output_type": "stream",
     "text": [
      "      Iter       Train Loss   Remaining Time \n",
      "         1           0.5092           35.81m\n",
      "         2           0.5038           37.93m\n",
      "         3           0.4985           37.79m\n",
      "         4           0.4934           37.45m\n",
      "         5           0.4883           38.07m\n",
      "         6           0.4834           37.53m\n",
      "         7           0.4785           37.15m\n",
      "         8           0.4738           37.66m\n",
      "         9           0.4691           37.38m\n",
      "        10           0.4645           37.11m\n",
      "        20           0.4234           36.11m\n",
      "        30           0.3896           35.45m\n",
      "        40           0.3615           35.09m\n",
      "        50           0.3382           34.95m\n",
      "        60           0.3188           34.68m\n",
      "        70           0.3027           34.55m\n",
      "        80           0.2891           34.37m\n",
      "        90           0.2776           34.24m\n",
      "       100           0.2679           34.09m\n",
      "       200           0.2194           32.12m\n",
      "       300           0.2003           30.33m\n",
      "       400           0.1902           28.35m\n",
      "       500           0.1839           26.49m\n",
      "       600           0.1793           24.80m\n",
      "       700           0.1758           23.20m\n",
      "       800           0.1731           21.71m\n",
      "       900           0.1706           20.44m\n",
      "      1000           0.1686           19.21m\n",
      "      2000           0.1572            8.88m\n",
      "      3000           0.1517            0.00s\n"
     ]
    }
   ],
   "source": [
    "gbr2=gbr.fit(Xtrain, ytrain)\n",
    "#y_pred = gbr.predict(X_test)"
   ]
  },
  {
   "cell_type": "code",
   "execution_count": 122,
   "metadata": {},
   "outputs": [
    {
     "data": {
      "image/png": "[encoded data removed]",
      "text/plain": [
       "<Figure size 720x432 with 1 Axes>"
      ]
     },
     "metadata": {},
     "output_type": "display_data"
    }
   ],
   "source": [
    "top = 35\n",
    "feature_importance = gbr2.feature_importances_\n",
    "# make importances relative to max importance\n",
    "feature_importance = 100.0 * (feature_importance / feature_importance.max())\n",
    "sorted_idx = np.argsort(feature_importance)\n",
    "pos = np.arange(sorted_idx.shape[0]) + .5\n",
    "plt.figure(figsize = (10,6))\n",
    "plt.barh(pos[-top:], feature_importance[sorted_idx][-top:], align='center')\n",
    "plt.yticks(pos[-top:], Xtrain.columns[sorted_idx][-top:])\n",
    "plt.xlabel('Relative Importance')\n",
    "plt.title('Variable Importance')\n",
    "plt.show()"
   ]
  },
  {
   "cell_type": "code",
   "execution_count": 118,
   "metadata": {},
   "outputs": [
    {
     "name": "stderr",
     "output_type": "stream",
     "text": [
      "[Parallel(n_jobs=1)]: Using backend SequentialBackend with 1 concurrent workers.\n",
      "[Parallel(n_jobs=1)]: Done 3000 out of 3000 | elapsed: 54.1min finished\n",
      "[Parallel(n_jobs=1)]: Using backend SequentialBackend with 1 concurrent workers.\n",
      "[Parallel(n_jobs=1)]: Done 3000 out of 3000 | elapsed:    0.1s finished\n"
     ]
    }
   ],
   "source": [
    "rfr = RandomForestRegressor(max_leaf_nodes=200,  n_estimators=3000, verbose=1)\n",
    "#gbm = lgb.LGBMRegressor(num_leaves=190, learning_rate=0.0109, n_estimators=4000, verbose=1, max_depth=-1)\n",
    "rfr.fit(X_train, y_train)\n",
    "y_predrfr = rfr.predict(X_test)"
   ]
  },
  {
   "cell_type": "code",
   "execution_count": 119,
   "metadata": {},
   "outputs": [],
   "source": [
    "x_predrfr = gbr.predict(X_train)"
   ]
  },
  {
   "cell_type": "code",
   "execution_count": 125,
   "metadata": {},
   "outputs": [],
   "source": [
    "test_scorerfr=r2_score(y_test,y_predrfr)\n",
    "train_scorerfr=r2_score(y_train,x_predrfr)"
   ]
  },
  {
   "cell_type": "code",
   "execution_count": 126,
   "metadata": {},
   "outputs": [
    {
     "name": "stdout",
     "output_type": "stream",
     "text": [
      "0.648400890176847\n",
      "0.705081394694401\n"
     ]
    }
   ],
   "source": [
    "print(test_scorerfr)\n",
    "print(train_scorerfr)"
   ]
  },
  {
   "cell_type": "code",
   "execution_count": 120,
   "metadata": {},
   "outputs": [
    {
     "data": {
      "image/png": "[encoded data removed]",
      "text/plain": [
       "<Figure size 720x432 with 1 Axes>"
      ]
     },
     "metadata": {},
     "output_type": "display_data"
    }
   ],
   "source": [
    "top = 35\n",
    "feature_importance = rfr.feature_importances_\n",
    "# make importances relative to max importance\n",
    "feature_importance = 100.0 * (feature_importance / feature_importance.max())\n",
    "sorted_idx = np.argsort(feature_importance)\n",
    "pos = np.arange(sorted_idx.shape[0]) + .5\n",
    "plt.figure(figsize = (10,6))\n",
    "plt.barh(pos[-top:], feature_importance[sorted_idx][-top:], align='center')\n",
    "plt.yticks(pos[-top:], Xtrain.columns[sorted_idx][-top:])\n",
    "plt.xlabel('Relative Importance')\n",
    "plt.title('Variable Importance')\n",
    "plt.show()"
   ]
  },
  {
   "cell_type": "code",
   "execution_count": 123,
   "metadata": {},
   "outputs": [
    {
     "name": "stderr",
     "output_type": "stream",
     "text": [
      "[Parallel(n_jobs=1)]: Using backend SequentialBackend with 1 concurrent workers.\n",
      "[Parallel(n_jobs=1)]: Done 3000 out of 3000 | elapsed: 53.8min finished\n"
     ]
    }
   ],
   "source": [
    "rfr2=rfr.fit(Xtrain, ytrain)"
   ]
  },
  {
   "cell_type": "code",
   "execution_count": 124,
   "metadata": {},
   "outputs": [
    {
     "data": {
      "image/png": "[encoded data removed]",
      "text/plain": [
       "<Figure size 720x432 with 1 Axes>"
      ]
     },
     "metadata": {},
     "output_type": "display_data"
    }
   ],
   "source": [
    "top = 35\n",
    "feature_importance = rfr2.feature_importances_\n",
    "# make importances relative to max importance\n",
    "feature_importance = 100.0 * (feature_importance / feature_importance.max())\n",
    "sorted_idx = np.argsort(feature_importance)\n",
    "pos = np.arange(sorted_idx.shape[0]) + .5\n",
    "plt.figure(figsize = (10,6))\n",
    "plt.barh(pos[-top:], feature_importance[sorted_idx][-top:], align='center')\n",
    "plt.yticks(pos[-top:], Xtrain.columns[sorted_idx][-top:])\n",
    "plt.xlabel('Relative Importance')\n",
    "plt.title('Variable Importance')\n",
    "plt.show()"
   ]
  },
  {
   "cell_type": "code",
   "execution_count": null,
   "metadata": {},
   "outputs": [],
   "source": []
  }
 ],
 "metadata": {
  "kernelspec": {
   "display_name": "Python [conda env:Anaconda3]",
   "language": "python",
   "name": "conda-env-Anaconda3-py"
  },
  "language_info": {
   "codemirror_mode": {
    "name": "ipython",
    "version": 3
   },
   "file_extension": ".py",
   "mimetype": "text/x-python",
   "name": "python",
   "nbconvert_exporter": "python",
   "pygments_lexer": "ipython3",
   "version": "3.6.5"
  }
 },
 "nbformat": 4,
 "nbformat_minor": 2
}
